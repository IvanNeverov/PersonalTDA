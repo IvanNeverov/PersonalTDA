{
  "nbformat": 4,
  "nbformat_minor": 0,
  "metadata": {
    "colab": {
      "provenance": [],
      "collapsed_sections": [
        "YoLnk7G-OTHi",
        "grXguEekOYDZ",
        "G-1wo6DyVsyc"
      ],
      "authorship_tag": "ABX9TyMSydIjX4crtST/i6HBwpNL",
      "include_colab_link": true
    },
    "kernelspec": {
      "name": "python3",
      "display_name": "Python 3"
    },
    "language_info": {
      "name": "python"
    }
  },
  "cells": [
    {
      "cell_type": "markdown",
      "metadata": {
        "id": "view-in-github",
        "colab_type": "text"
      },
      "source": [
        "<a href=\"https://colab.research.google.com/github/IvanNeverov/PersonalTDA/blob/main/TDA_1_step.ipynb\" target=\"_parent\"><img src=\"https://colab.research.google.com/assets/colab-badge.svg\" alt=\"Open In Colab\"/></a>"
      ]
    },
    {
      "cell_type": "code",
      "execution_count": 1,
      "metadata": {
        "id": "Hhtvd_PE00xf"
      },
      "outputs": [],
      "source": [
        "import pandas as pd\n",
        "import numpy as np\n",
        "from matplotlib import pyplot as plt\n",
        "from sklearn.linear_model import LogisticRegression\n",
        "\n",
        "import warnings\n",
        "warnings.filterwarnings(\"ignore\")"
      ]
    },
    {
      "cell_type": "code",
      "source": [
        "!mkdir -p ~/.postgresql && \\\n",
        "wget \"https://storage.yandexcloud.net/cloud-certs/CA.pem\" \\\n",
        "    --output-document ~/.postgresql/root.crt && \\\n",
        "chmod 0600 ~/.postgresql/root.crt"
      ],
      "metadata": {
        "id": "HSBK3nxO05zM",
        "outputId": "b912d1c3-497f-4622-ace1-727594b55796",
        "colab": {
          "base_uri": "https://localhost:8080/"
        }
      },
      "execution_count": 2,
      "outputs": [
        {
          "output_type": "stream",
          "name": "stdout",
          "text": [
            "--2023-02-26 05:42:03--  https://storage.yandexcloud.net/cloud-certs/CA.pem\n",
            "Resolving storage.yandexcloud.net (storage.yandexcloud.net)... 213.180.193.243, 2a02:6b8::1d9\n",
            "Connecting to storage.yandexcloud.net (storage.yandexcloud.net)|213.180.193.243|:443... connected.\n",
            "HTTP request sent, awaiting response... 200 OK\n",
            "Length: 3579 (3.5K) [application/x-x509-ca-cert]\n",
            "Saving to: ‘/root/.postgresql/root.crt’\n",
            "\n",
            "/root/.postgresql/r 100%[===================>]   3.50K  --.-KB/s    in 0s      \n",
            "\n",
            "2023-02-26 05:42:04 (650 MB/s) - ‘/root/.postgresql/root.crt’ saved [3579/3579]\n",
            "\n"
          ]
        }
      ]
    },
    {
      "cell_type": "code",
      "source": [
        "!sudo apt update && sudo apt install --yes python3 python3-pip && \\\n",
        "!pip3 install psycopg2-binary\n",
        "!pip3 install catboost"
      ],
      "metadata": {
        "id": "NC09AJwu07cS",
        "outputId": "ae5981d4-b585-43f2-8d23-12e66ad3745a",
        "colab": {
          "base_uri": "https://localhost:8080/"
        }
      },
      "execution_count": 101,
      "outputs": [
        {
          "output_type": "stream",
          "name": "stdout",
          "text": [
            "\u001b[33m\r0% [Working]\u001b[0m\r            \rGet:1 http://security.ubuntu.com/ubuntu focal-security InRelease [114 kB]\n",
            "\u001b[33m\r0% [Connecting to archive.ubuntu.com (185.125.190.36)] [1 InRelease 14.2 kB/114\u001b[0m\r                                                                               \rGet:2 https://cloud.r-project.org/bin/linux/ubuntu focal-cran40/ InRelease [3,622 B]\n",
            "\u001b[33m\r0% [Waiting for headers] [1 InRelease 43.1 kB/114 kB 38%] [2 InRelease 3,622 B/\u001b[0m\u001b[33m\r0% [Waiting for headers] [1 InRelease 101 kB/114 kB 89%] [Waiting for headers] \u001b[0m\r                                                                               \rIgn:3 https://developer.download.nvidia.com/compute/machine-learning/repos/ubuntu2004/x86_64  InRelease\n",
            "\u001b[33m\r0% [Waiting for headers] [1 InRelease 104 kB/114 kB 91%] [Waiting for headers] \u001b[0m\u001b[33m\r                                                                               \r0% [Waiting for headers] [Waiting for headers] [Waiting for headers]\u001b[0m\r                                                                    \rHit:4 https://developer.download.nvidia.com/compute/cuda/repos/ubuntu2004/x86_64  InRelease\n",
            "\u001b[33m\r                                                                    \r0% [Waiting for headers] [Waiting for headers]\u001b[0m\r                                              \rHit:5 http://archive.ubuntu.com/ubuntu focal InRelease\n",
            "\u001b[33m\r0% [Waiting for headers] [Waiting for headers] [Waiting for headers]\u001b[0m\r                                                                    \rHit:6 https://developer.download.nvidia.com/compute/machine-learning/repos/ubuntu2004/x86_64  Release\n",
            "Hit:7 http://ppa.launchpad.net/c2d4u.team/c2d4u4.0+/ubuntu focal InRelease\n",
            "Get:8 http://archive.ubuntu.com/ubuntu focal-updates InRelease [114 kB]\n",
            "Hit:9 http://ppa.launchpad.net/cran/libgit2/ubuntu focal InRelease\n",
            "Hit:10 http://ppa.launchpad.net/deadsnakes/ppa/ubuntu focal InRelease\n",
            "Get:11 http://archive.ubuntu.com/ubuntu focal-backports InRelease [108 kB]\n",
            "Hit:12 http://ppa.launchpad.net/graphics-drivers/ppa/ubuntu focal InRelease\n",
            "Hit:13 http://ppa.launchpad.net/ubuntugis/ppa/ubuntu focal InRelease\n",
            "Fetched 340 kB in 3s (109 kB/s)\n",
            "Reading package lists... Done\n",
            "Building dependency tree       \n",
            "Reading state information... Done\n",
            "19 packages can be upgraded. Run 'apt list --upgradable' to see them.\n",
            "Reading package lists... Done\n",
            "Building dependency tree       \n",
            "Reading state information... Done\n",
            "python3 is already the newest version (3.8.2-0ubuntu2).\n",
            "python3-pip is already the newest version (20.0.2-5ubuntu1.7).\n",
            "0 upgraded, 0 newly installed, 0 to remove and 19 not upgraded.\n",
            "/bin/bash: !pip3: command not found\n",
            "Looking in indexes: https://pypi.org/simple, https://us-python.pkg.dev/colab-wheels/public/simple/\n",
            "Collecting catboost\n",
            "  Downloading catboost-1.1.1-cp38-none-manylinux1_x86_64.whl (76.6 MB)\n",
            "\u001b[2K     \u001b[90m━━━━━━━━━━━━━━━━━━━━━━━━━━━━━━━━━━━━━━━━\u001b[0m \u001b[32m76.6/76.6 MB\u001b[0m \u001b[31m11.5 MB/s\u001b[0m eta \u001b[36m0:00:00\u001b[0m\n",
            "\u001b[?25hRequirement already satisfied: plotly in /usr/local/lib/python3.8/dist-packages (from catboost) (5.5.0)\n",
            "Requirement already satisfied: numpy>=1.16.0 in /usr/local/lib/python3.8/dist-packages (from catboost) (1.22.4)\n",
            "Requirement already satisfied: matplotlib in /usr/local/lib/python3.8/dist-packages (from catboost) (3.5.3)\n",
            "Requirement already satisfied: graphviz in /usr/local/lib/python3.8/dist-packages (from catboost) (0.10.1)\n",
            "Requirement already satisfied: pandas>=0.24.0 in /usr/local/lib/python3.8/dist-packages (from catboost) (1.3.5)\n",
            "Requirement already satisfied: six in /usr/local/lib/python3.8/dist-packages (from catboost) (1.15.0)\n",
            "Requirement already satisfied: scipy in /usr/local/lib/python3.8/dist-packages (from catboost) (1.7.3)\n",
            "Requirement already satisfied: pytz>=2017.3 in /usr/local/lib/python3.8/dist-packages (from pandas>=0.24.0->catboost) (2022.7.1)\n",
            "Requirement already satisfied: python-dateutil>=2.7.3 in /usr/local/lib/python3.8/dist-packages (from pandas>=0.24.0->catboost) (2.8.2)\n",
            "Requirement already satisfied: packaging>=20.0 in /usr/local/lib/python3.8/dist-packages (from matplotlib->catboost) (23.0)\n",
            "Requirement already satisfied: kiwisolver>=1.0.1 in /usr/local/lib/python3.8/dist-packages (from matplotlib->catboost) (1.4.4)\n",
            "Requirement already satisfied: fonttools>=4.22.0 in /usr/local/lib/python3.8/dist-packages (from matplotlib->catboost) (4.38.0)\n",
            "Requirement already satisfied: pillow>=6.2.0 in /usr/local/lib/python3.8/dist-packages (from matplotlib->catboost) (7.1.2)\n",
            "Requirement already satisfied: cycler>=0.10 in /usr/local/lib/python3.8/dist-packages (from matplotlib->catboost) (0.11.0)\n",
            "Requirement already satisfied: pyparsing>=2.2.1 in /usr/local/lib/python3.8/dist-packages (from matplotlib->catboost) (3.0.9)\n",
            "Requirement already satisfied: tenacity>=6.2.0 in /usr/local/lib/python3.8/dist-packages (from plotly->catboost) (8.2.1)\n",
            "Installing collected packages: catboost\n",
            "Successfully installed catboost-1.1.1\n"
          ]
        }
      ]
    },
    {
      "cell_type": "code",
      "source": [
        "# import psycopg2\n",
        "\n",
        "# conn = psycopg2.connect(\"\"\"\n",
        "#     host=rc1b-70q90cunwkzx49mj.mdb.yandexcloud.net\n",
        "#     port=6432\n",
        "#     sslmode=verify-full\n",
        "#     dbname=db_clients\n",
        "#     user=mlhs_student\n",
        "#     password=mlhs_student\n",
        "#     target_session_attrs=read-write\n",
        "# \"\"\")"
      ],
      "metadata": {
        "id": "g3zF3kRV07sj"
      },
      "execution_count": 4,
      "outputs": []
    },
    {
      "cell_type": "markdown",
      "source": [
        "##Загрузка данных"
      ],
      "metadata": {
        "id": "YoLnk7G-OTHi"
      }
    },
    {
      "cell_type": "code",
      "source": [
        "import pandas as pd\n",
        "df = pd.read_csv('/content/deposits_data.csv')"
      ],
      "metadata": {
        "id": "pIZlx6kc099c"
      },
      "execution_count": 7,
      "outputs": []
    },
    {
      "cell_type": "markdown",
      "source": [
        "##Обработка"
      ],
      "metadata": {
        "id": "grXguEekOYDZ"
      }
    },
    {
      "cell_type": "code",
      "source": [
        "# df.head()\n",
        "df.info()\n",
        "# df.describe()"
      ],
      "metadata": {
        "colab": {
          "base_uri": "https://localhost:8080/"
        },
        "id": "3v0yUH3H24DR",
        "outputId": "aadbc26e-42f8-4642-edb3-968b1dfaf234"
      },
      "execution_count": 8,
      "outputs": [
        {
          "output_type": "stream",
          "name": "stdout",
          "text": [
            "<class 'pandas.core.frame.DataFrame'>\n",
            "RangeIndex: 11162 entries, 0 to 11161\n",
            "Data columns (total 17 columns):\n",
            " #   Column     Non-Null Count  Dtype \n",
            "---  ------     --------------  ----- \n",
            " 0   age        11162 non-null  int64 \n",
            " 1   job        11162 non-null  object\n",
            " 2   marital    11162 non-null  object\n",
            " 3   education  11162 non-null  object\n",
            " 4   default    11162 non-null  object\n",
            " 5   balance    11162 non-null  int64 \n",
            " 6   housing    11162 non-null  object\n",
            " 7   loan       11162 non-null  object\n",
            " 8   contact    11162 non-null  object\n",
            " 9   day        11162 non-null  int64 \n",
            " 10  month      11162 non-null  object\n",
            " 11  duration   11162 non-null  int64 \n",
            " 12  campaign   11162 non-null  int64 \n",
            " 13  pdays      11162 non-null  int64 \n",
            " 14  previous   11162 non-null  int64 \n",
            " 15  poutcome   11162 non-null  object\n",
            " 16  deposit    11162 non-null  object\n",
            "dtypes: int64(7), object(10)\n",
            "memory usage: 1.4+ MB\n"
          ]
        }
      ]
    },
    {
      "cell_type": "code",
      "source": [
        "df.deposit.value_counts()\n",
        "df.default = df.default.map(dict(no = 0, yes=1))\n",
        "df.housing = df.housing.map(dict(no = 0, yes=1))\n",
        "df.loan = df.loan.map(dict(no = 0, yes=1))\n",
        "df.info()"
      ],
      "metadata": {
        "colab": {
          "base_uri": "https://localhost:8080/"
        },
        "id": "pyiytzhGFC-h",
        "outputId": "ac1da0d1-c4d2-49d1-8742-f68cbade3bbb"
      },
      "execution_count": 9,
      "outputs": [
        {
          "output_type": "stream",
          "name": "stdout",
          "text": [
            "<class 'pandas.core.frame.DataFrame'>\n",
            "RangeIndex: 11162 entries, 0 to 11161\n",
            "Data columns (total 17 columns):\n",
            " #   Column     Non-Null Count  Dtype \n",
            "---  ------     --------------  ----- \n",
            " 0   age        11162 non-null  int64 \n",
            " 1   job        11162 non-null  object\n",
            " 2   marital    11162 non-null  object\n",
            " 3   education  11162 non-null  object\n",
            " 4   default    11162 non-null  int64 \n",
            " 5   balance    11162 non-null  int64 \n",
            " 6   housing    11162 non-null  int64 \n",
            " 7   loan       11162 non-null  int64 \n",
            " 8   contact    11162 non-null  object\n",
            " 9   day        11162 non-null  int64 \n",
            " 10  month      11162 non-null  object\n",
            " 11  duration   11162 non-null  int64 \n",
            " 12  campaign   11162 non-null  int64 \n",
            " 13  pdays      11162 non-null  int64 \n",
            " 14  previous   11162 non-null  int64 \n",
            " 15  poutcome   11162 non-null  object\n",
            " 16  deposit    11162 non-null  object\n",
            "dtypes: int64(10), object(7)\n",
            "memory usage: 1.4+ MB\n"
          ]
        }
      ]
    },
    {
      "cell_type": "code",
      "source": [
        "df.drop_duplicates(inplace = True)\n"
      ],
      "metadata": {
        "id": "pHbwMtQG26B4"
      },
      "execution_count": 10,
      "outputs": []
    },
    {
      "cell_type": "code",
      "source": [
        "df.deposit.value_counts() "
      ],
      "metadata": {
        "colab": {
          "base_uri": "https://localhost:8080/"
        },
        "id": "qv5SkL0W5Z-V",
        "outputId": "6afa8cba-3eff-41e1-fd22-f304e7cee756"
      },
      "execution_count": 11,
      "outputs": [
        {
          "output_type": "execute_result",
          "data": {
            "text/plain": [
              "no     5873\n",
              "yes    5289\n",
              "Name: deposit, dtype: int64"
            ]
          },
          "metadata": {},
          "execution_count": 11
        }
      ]
    },
    {
      "cell_type": "code",
      "source": [
        "df.groupby('deposit').mean()"
      ],
      "metadata": {
        "colab": {
          "base_uri": "https://localhost:8080/",
          "height": 143
        },
        "id": "9eMk7vPhEnBA",
        "outputId": "bc15a050-3235-4c2e-b634-fa76ef362990"
      },
      "execution_count": 12,
      "outputs": [
        {
          "output_type": "execute_result",
          "data": {
            "text/plain": [
              "               age   default      balance   housing      loan        day  \\\n",
              "deposit                                                                    \n",
              "no       40.837391  0.019751  1280.227141  0.569726  0.166184  16.108122   \n",
              "yes      41.670070  0.009832  1804.267915  0.365854  0.091511  15.158253   \n",
              "\n",
              "           duration  campaign      pdays  previous  \n",
              "deposit                                             \n",
              "no       223.130257  2.839264  35.685340  0.528350  \n",
              "yes      537.294574  2.141047  68.702968  1.170354  "
            ],
            "text/html": [
              "\n",
              "  <div id=\"df-7203186f-2002-4fdf-9690-41b7e1c4681f\">\n",
              "    <div class=\"colab-df-container\">\n",
              "      <div>\n",
              "<style scoped>\n",
              "    .dataframe tbody tr th:only-of-type {\n",
              "        vertical-align: middle;\n",
              "    }\n",
              "\n",
              "    .dataframe tbody tr th {\n",
              "        vertical-align: top;\n",
              "    }\n",
              "\n",
              "    .dataframe thead th {\n",
              "        text-align: right;\n",
              "    }\n",
              "</style>\n",
              "<table border=\"1\" class=\"dataframe\">\n",
              "  <thead>\n",
              "    <tr style=\"text-align: right;\">\n",
              "      <th></th>\n",
              "      <th>age</th>\n",
              "      <th>default</th>\n",
              "      <th>balance</th>\n",
              "      <th>housing</th>\n",
              "      <th>loan</th>\n",
              "      <th>day</th>\n",
              "      <th>duration</th>\n",
              "      <th>campaign</th>\n",
              "      <th>pdays</th>\n",
              "      <th>previous</th>\n",
              "    </tr>\n",
              "    <tr>\n",
              "      <th>deposit</th>\n",
              "      <th></th>\n",
              "      <th></th>\n",
              "      <th></th>\n",
              "      <th></th>\n",
              "      <th></th>\n",
              "      <th></th>\n",
              "      <th></th>\n",
              "      <th></th>\n",
              "      <th></th>\n",
              "      <th></th>\n",
              "    </tr>\n",
              "  </thead>\n",
              "  <tbody>\n",
              "    <tr>\n",
              "      <th>no</th>\n",
              "      <td>40.837391</td>\n",
              "      <td>0.019751</td>\n",
              "      <td>1280.227141</td>\n",
              "      <td>0.569726</td>\n",
              "      <td>0.166184</td>\n",
              "      <td>16.108122</td>\n",
              "      <td>223.130257</td>\n",
              "      <td>2.839264</td>\n",
              "      <td>35.685340</td>\n",
              "      <td>0.528350</td>\n",
              "    </tr>\n",
              "    <tr>\n",
              "      <th>yes</th>\n",
              "      <td>41.670070</td>\n",
              "      <td>0.009832</td>\n",
              "      <td>1804.267915</td>\n",
              "      <td>0.365854</td>\n",
              "      <td>0.091511</td>\n",
              "      <td>15.158253</td>\n",
              "      <td>537.294574</td>\n",
              "      <td>2.141047</td>\n",
              "      <td>68.702968</td>\n",
              "      <td>1.170354</td>\n",
              "    </tr>\n",
              "  </tbody>\n",
              "</table>\n",
              "</div>\n",
              "      <button class=\"colab-df-convert\" onclick=\"convertToInteractive('df-7203186f-2002-4fdf-9690-41b7e1c4681f')\"\n",
              "              title=\"Convert this dataframe to an interactive table.\"\n",
              "              style=\"display:none;\">\n",
              "        \n",
              "  <svg xmlns=\"http://www.w3.org/2000/svg\" height=\"24px\"viewBox=\"0 0 24 24\"\n",
              "       width=\"24px\">\n",
              "    <path d=\"M0 0h24v24H0V0z\" fill=\"none\"/>\n",
              "    <path d=\"M18.56 5.44l.94 2.06.94-2.06 2.06-.94-2.06-.94-.94-2.06-.94 2.06-2.06.94zm-11 1L8.5 8.5l.94-2.06 2.06-.94-2.06-.94L8.5 2.5l-.94 2.06-2.06.94zm10 10l.94 2.06.94-2.06 2.06-.94-2.06-.94-.94-2.06-.94 2.06-2.06.94z\"/><path d=\"M17.41 7.96l-1.37-1.37c-.4-.4-.92-.59-1.43-.59-.52 0-1.04.2-1.43.59L10.3 9.45l-7.72 7.72c-.78.78-.78 2.05 0 2.83L4 21.41c.39.39.9.59 1.41.59.51 0 1.02-.2 1.41-.59l7.78-7.78 2.81-2.81c.8-.78.8-2.07 0-2.86zM5.41 20L4 18.59l7.72-7.72 1.47 1.35L5.41 20z\"/>\n",
              "  </svg>\n",
              "      </button>\n",
              "      \n",
              "  <style>\n",
              "    .colab-df-container {\n",
              "      display:flex;\n",
              "      flex-wrap:wrap;\n",
              "      gap: 12px;\n",
              "    }\n",
              "\n",
              "    .colab-df-convert {\n",
              "      background-color: #E8F0FE;\n",
              "      border: none;\n",
              "      border-radius: 50%;\n",
              "      cursor: pointer;\n",
              "      display: none;\n",
              "      fill: #1967D2;\n",
              "      height: 32px;\n",
              "      padding: 0 0 0 0;\n",
              "      width: 32px;\n",
              "    }\n",
              "\n",
              "    .colab-df-convert:hover {\n",
              "      background-color: #E2EBFA;\n",
              "      box-shadow: 0px 1px 2px rgba(60, 64, 67, 0.3), 0px 1px 3px 1px rgba(60, 64, 67, 0.15);\n",
              "      fill: #174EA6;\n",
              "    }\n",
              "\n",
              "    [theme=dark] .colab-df-convert {\n",
              "      background-color: #3B4455;\n",
              "      fill: #D2E3FC;\n",
              "    }\n",
              "\n",
              "    [theme=dark] .colab-df-convert:hover {\n",
              "      background-color: #434B5C;\n",
              "      box-shadow: 0px 1px 3px 1px rgba(0, 0, 0, 0.15);\n",
              "      filter: drop-shadow(0px 1px 2px rgba(0, 0, 0, 0.3));\n",
              "      fill: #FFFFFF;\n",
              "    }\n",
              "  </style>\n",
              "\n",
              "      <script>\n",
              "        const buttonEl =\n",
              "          document.querySelector('#df-7203186f-2002-4fdf-9690-41b7e1c4681f button.colab-df-convert');\n",
              "        buttonEl.style.display =\n",
              "          google.colab.kernel.accessAllowed ? 'block' : 'none';\n",
              "\n",
              "        async function convertToInteractive(key) {\n",
              "          const element = document.querySelector('#df-7203186f-2002-4fdf-9690-41b7e1c4681f');\n",
              "          const dataTable =\n",
              "            await google.colab.kernel.invokeFunction('convertToInteractive',\n",
              "                                                     [key], {});\n",
              "          if (!dataTable) return;\n",
              "\n",
              "          const docLinkHtml = 'Like what you see? Visit the ' +\n",
              "            '<a target=\"_blank\" href=https://colab.research.google.com/notebooks/data_table.ipynb>data table notebook</a>'\n",
              "            + ' to learn more about interactive tables.';\n",
              "          element.innerHTML = '';\n",
              "          dataTable['output_type'] = 'display_data';\n",
              "          await google.colab.output.renderOutput(dataTable, element);\n",
              "          const docLink = document.createElement('div');\n",
              "          docLink.innerHTML = docLinkHtml;\n",
              "          element.appendChild(docLink);\n",
              "        }\n",
              "      </script>\n",
              "    </div>\n",
              "  </div>\n",
              "  "
            ]
          },
          "metadata": {},
          "execution_count": 12
        }
      ]
    },
    {
      "cell_type": "code",
      "source": [
        "pd.crosstab(df.job,df.deposit).plot(kind='bar')"
      ],
      "metadata": {
        "colab": {
          "base_uri": "https://localhost:8080/",
          "height": 357
        },
        "id": "zE2zl0gANC2J",
        "outputId": "02e1aac2-a5de-4026-eda3-ebb148de057d"
      },
      "execution_count": 13,
      "outputs": [
        {
          "output_type": "execute_result",
          "data": {
            "text/plain": [
              "<AxesSubplot:xlabel='job'>"
            ]
          },
          "metadata": {},
          "execution_count": 13
        },
        {
          "output_type": "display_data",
          "data": {
            "text/plain": [
              "<Figure size 432x288 with 1 Axes>"
            ],
            "image/png": "[encoded data removed]"
          },
          "metadata": {
            "needs_background": "light"
          }
        }
      ]
    },
    {
      "cell_type": "code",
      "source": [
        "pd.crosstab(df.education,df.deposit).plot(kind='bar')"
      ],
      "metadata": {
        "colab": {
          "base_uri": "https://localhost:8080/",
          "height": 338
        },
        "id": "fSGQB0yhNL6I",
        "outputId": "80b2ccd1-fbe0-45b3-d8e0-0d1c18eff615"
      },
      "execution_count": 14,
      "outputs": [
        {
          "output_type": "execute_result",
          "data": {
            "text/plain": [
              "<AxesSubplot:xlabel='education'>"
            ]
          },
          "metadata": {},
          "execution_count": 14
        },
        {
          "output_type": "display_data",
          "data": {
            "text/plain": [
              "<Figure size 432x288 with 1 Axes>"
            ],
            "image/png": "[encoded data removed]"
          },
          "metadata": {
            "needs_background": "light"
          }
        }
      ]
    },
    {
      "cell_type": "code",
      "source": [
        "pd.crosstab(df.contact,df.deposit).plot(kind='bar')"
      ],
      "metadata": {
        "colab": {
          "base_uri": "https://localhost:8080/",
          "height": 336
        },
        "id": "ze6JKCgsNahe",
        "outputId": "a29092aa-df5e-44a1-c543-ef12c77b8e1c"
      },
      "execution_count": 15,
      "outputs": [
        {
          "output_type": "execute_result",
          "data": {
            "text/plain": [
              "<AxesSubplot:xlabel='contact'>"
            ]
          },
          "metadata": {},
          "execution_count": 15
        },
        {
          "output_type": "display_data",
          "data": {
            "text/plain": [
              "<Figure size 432x288 with 1 Axes>"
            ],
            "image/png": "[encoded data removed]"
          },
          "metadata": {
            "needs_background": "light"
          }
        }
      ]
    },
    {
      "cell_type": "code",
      "source": [
        "pd.crosstab(df.marital,df.deposit).plot(kind='bar')"
      ],
      "metadata": {
        "colab": {
          "base_uri": "https://localhost:8080/",
          "height": 329
        },
        "id": "VbkIeC_6Nd7u",
        "outputId": "dcc837be-cf33-46ab-a67b-35a8912a9a6f"
      },
      "execution_count": 16,
      "outputs": [
        {
          "output_type": "execute_result",
          "data": {
            "text/plain": [
              "<AxesSubplot:xlabel='marital'>"
            ]
          },
          "metadata": {},
          "execution_count": 16
        },
        {
          "output_type": "display_data",
          "data": {
            "text/plain": [
              "<Figure size 432x288 with 1 Axes>"
            ],
            "image/png": "[encoded data removed]"
          },
          "metadata": {
            "needs_background": "light"
          }
        }
      ]
    },
    {
      "cell_type": "code",
      "source": [
        "corr = df.corr()\n",
        "corr.style.background_gradient(cmap='coolwarm')"
      ],
      "metadata": {
        "colab": {
          "base_uri": "https://localhost:8080/",
          "height": 363
        },
        "id": "7fjGlWxe8ISo",
        "outputId": "6067f035-b261-4849-a0fe-7b161b598008"
      },
      "execution_count": 17,
      "outputs": [
        {
          "output_type": "execute_result",
          "data": {
            "text/plain": [
              "<pandas.io.formats.style.Styler at 0x7f5402d00a00>"
            ],
            "text/html": [
              "<style type=\"text/css\">\n",
              "#T_26dd7_row0_col0, #T_26dd7_row1_col1, #T_26dd7_row2_col2, #T_26dd7_row3_col3, #T_26dd7_row4_col4, #T_26dd7_row5_col5, #T_26dd7_row6_col6, #T_26dd7_row7_col7, #T_26dd7_row8_col8, #T_26dd7_row9_col9 {\n",
              "  background-color: #b40426;\n",
              "  color: #f1f1f1;\n",
              "}\n",
              "#T_26dd7_row0_col1 {\n",
              "  background-color: #485fd1;\n",
              "  color: #f1f1f1;\n",
              "}\n",
              "#T_26dd7_row0_col2 {\n",
              "  background-color: #7597f6;\n",
              "  color: #f1f1f1;\n",
              "}\n",
              "#T_26dd7_row0_col3, #T_26dd7_row2_col1, #T_26dd7_row2_col4, #T_26dd7_row3_col0, #T_26dd7_row4_col2, #T_26dd7_row5_col9, #T_26dd7_row7_col6, #T_26dd7_row7_col8, #T_26dd7_row8_col5, #T_26dd7_row8_col7 {\n",
              "  background-color: #3b4cc0;\n",
              "  color: #f1f1f1;\n",
              "}\n",
              "#T_26dd7_row0_col4, #T_26dd7_row6_col1, #T_26dd7_row8_col4, #T_26dd7_row9_col7 {\n",
              "  background-color: #4961d2;\n",
              "  color: #f1f1f1;\n",
              "}\n",
              "#T_26dd7_row0_col5, #T_26dd7_row3_col6, #T_26dd7_row5_col1 {\n",
              "  background-color: #506bda;\n",
              "  color: #f1f1f1;\n",
              "}\n",
              "#T_26dd7_row0_col6 {\n",
              "  background-color: #465ecf;\n",
              "  color: #f1f1f1;\n",
              "}\n",
              "#T_26dd7_row0_col7, #T_26dd7_row1_col5, #T_26dd7_row4_col5, #T_26dd7_row5_col2, #T_26dd7_row7_col1 {\n",
              "  background-color: #5572df;\n",
              "  color: #f1f1f1;\n",
              "}\n",
              "#T_26dd7_row0_col8, #T_26dd7_row5_col4, #T_26dd7_row8_col2 {\n",
              "  background-color: #5875e1;\n",
              "  color: #f1f1f1;\n",
              "}\n",
              "#T_26dd7_row0_col9, #T_26dd7_row6_col4 {\n",
              "  background-color: #516ddb;\n",
              "  color: #f1f1f1;\n",
              "}\n",
              "#T_26dd7_row1_col0 {\n",
              "  background-color: #6485ec;\n",
              "  color: #f1f1f1;\n",
              "}\n",
              "#T_26dd7_row1_col2, #T_26dd7_row1_col9, #T_26dd7_row5_col6, #T_26dd7_row5_col8, #T_26dd7_row8_col1 {\n",
              "  background-color: #4055c8;\n",
              "  color: #f1f1f1;\n",
              "}\n",
              "#T_26dd7_row1_col3 {\n",
              "  background-color: #6b8df0;\n",
              "  color: #f1f1f1;\n",
              "}\n",
              "#T_26dd7_row1_col4, #T_26dd7_row3_col4, #T_26dd7_row3_col8, #T_26dd7_row7_col3 {\n",
              "  background-color: #6a8bef;\n",
              "  color: #f1f1f1;\n",
              "}\n",
              "#T_26dd7_row1_col6, #T_26dd7_row6_col9 {\n",
              "  background-color: #4358cb;\n",
              "  color: #f1f1f1;\n",
              "}\n",
              "#T_26dd7_row1_col7, #T_26dd7_row4_col7 {\n",
              "  background-color: #6180e9;\n",
              "  color: #f1f1f1;\n",
              "}\n",
              "#T_26dd7_row1_col8, #T_26dd7_row2_col6 {\n",
              "  background-color: #4c66d6;\n",
              "  color: #f1f1f1;\n",
              "}\n",
              "#T_26dd7_row2_col0 {\n",
              "  background-color: #89acfd;\n",
              "  color: #000000;\n",
              "}\n",
              "#T_26dd7_row2_col3, #T_26dd7_row2_col5, #T_26dd7_row2_col7 {\n",
              "  background-color: #536edd;\n",
              "  color: #f1f1f1;\n",
              "}\n",
              "#T_26dd7_row2_col8, #T_26dd7_row9_col2 {\n",
              "  background-color: #5b7ae5;\n",
              "  color: #f1f1f1;\n",
              "}\n",
              "#T_26dd7_row2_col9 {\n",
              "  background-color: #5470de;\n",
              "  color: #f1f1f1;\n",
              "}\n",
              "#T_26dd7_row3_col1, #T_26dd7_row6_col8 {\n",
              "  background-color: #4f69d9;\n",
              "  color: #f1f1f1;\n",
              "}\n",
              "#T_26dd7_row3_col2 {\n",
              "  background-color: #3c4ec2;\n",
              "  color: #f1f1f1;\n",
              "}\n",
              "#T_26dd7_row3_col5, #T_26dd7_row3_col9, #T_26dd7_row6_col7, #T_26dd7_row9_col4 {\n",
              "  background-color: #4b64d5;\n",
              "  color: #f1f1f1;\n",
              "}\n",
              "#T_26dd7_row3_col7, #T_26dd7_row6_col2 {\n",
              "  background-color: #5977e3;\n",
              "  color: #f1f1f1;\n",
              "}\n",
              "#T_26dd7_row4_col0 {\n",
              "  background-color: #5f7fe8;\n",
              "  color: #f1f1f1;\n",
              "}\n",
              "#T_26dd7_row4_col1, #T_26dd7_row5_col3 {\n",
              "  background-color: #6384eb;\n",
              "  color: #f1f1f1;\n",
              "}\n",
              "#T_26dd7_row4_col3 {\n",
              "  background-color: #7ea1fa;\n",
              "  color: #f1f1f1;\n",
              "}\n",
              "#T_26dd7_row4_col6 {\n",
              "  background-color: #455cce;\n",
              "  color: #f1f1f1;\n",
              "}\n",
              "#T_26dd7_row4_col8, #T_26dd7_row7_col2 {\n",
              "  background-color: #4e68d8;\n",
              "  color: #f1f1f1;\n",
              "}\n",
              "#T_26dd7_row4_col9 {\n",
              "  background-color: #445acc;\n",
              "  color: #f1f1f1;\n",
              "}\n",
              "#T_26dd7_row5_col0, #T_26dd7_row6_col0, #T_26dd7_row9_col3 {\n",
              "  background-color: #6788ee;\n",
              "  color: #f1f1f1;\n",
              "}\n",
              "#T_26dd7_row5_col7 {\n",
              "  background-color: #81a4fb;\n",
              "  color: #f1f1f1;\n",
              "}\n",
              "#T_26dd7_row6_col3 {\n",
              "  background-color: #7295f4;\n",
              "  color: #f1f1f1;\n",
              "}\n",
              "#T_26dd7_row6_col5 {\n",
              "  background-color: #4a63d3;\n",
              "  color: #f1f1f1;\n",
              "}\n",
              "#T_26dd7_row7_col0 {\n",
              "  background-color: #6687ed;\n",
              "  color: #f1f1f1;\n",
              "}\n",
              "#T_26dd7_row7_col4 {\n",
              "  background-color: #5d7ce6;\n",
              "  color: #f1f1f1;\n",
              "}\n",
              "#T_26dd7_row7_col5 {\n",
              "  background-color: #7a9df8;\n",
              "  color: #f1f1f1;\n",
              "}\n",
              "#T_26dd7_row7_col9 {\n",
              "  background-color: #3d50c3;\n",
              "  color: #f1f1f1;\n",
              "}\n",
              "#T_26dd7_row8_col0 {\n",
              "  background-color: #688aef;\n",
              "  color: #f1f1f1;\n",
              "}\n",
              "#T_26dd7_row8_col3 {\n",
              "  background-color: #7b9ff9;\n",
              "  color: #f1f1f1;\n",
              "}\n",
              "#T_26dd7_row8_col6, #T_26dd7_row9_col6 {\n",
              "  background-color: #3e51c5;\n",
              "  color: #f1f1f1;\n",
              "}\n",
              "#T_26dd7_row8_col9 {\n",
              "  background-color: #e5d8d1;\n",
              "  color: #000000;\n",
              "}\n",
              "#T_26dd7_row9_col0 {\n",
              "  background-color: #6e90f2;\n",
              "  color: #f1f1f1;\n",
              "}\n",
              "#T_26dd7_row9_col1 {\n",
              "  background-color: #4257c9;\n",
              "  color: #f1f1f1;\n",
              "}\n",
              "#T_26dd7_row9_col5 {\n",
              "  background-color: #3f53c6;\n",
              "  color: #f1f1f1;\n",
              "}\n",
              "#T_26dd7_row9_col8 {\n",
              "  background-color: #ead5c9;\n",
              "  color: #000000;\n",
              "}\n",
              "</style>\n",
              "<table id=\"T_26dd7_\" class=\"dataframe\">\n",
              "  <thead>\n",
              "    <tr>\n",
              "      <th class=\"blank level0\" >&nbsp;</th>\n",
              "      <th class=\"col_heading level0 col0\" >age</th>\n",
              "      <th class=\"col_heading level0 col1\" >default</th>\n",
              "      <th class=\"col_heading level0 col2\" >balance</th>\n",
              "      <th class=\"col_heading level0 col3\" >housing</th>\n",
              "      <th class=\"col_heading level0 col4\" >loan</th>\n",
              "      <th class=\"col_heading level0 col5\" >day</th>\n",
              "      <th class=\"col_heading level0 col6\" >duration</th>\n",
              "      <th class=\"col_heading level0 col7\" >campaign</th>\n",
              "      <th class=\"col_heading level0 col8\" >pdays</th>\n",
              "      <th class=\"col_heading level0 col9\" >previous</th>\n",
              "    </tr>\n",
              "  </thead>\n",
              "  <tbody>\n",
              "    <tr>\n",
              "      <th id=\"T_26dd7_level0_row0\" class=\"row_heading level0 row0\" >age</th>\n",
              "      <td id=\"T_26dd7_row0_col0\" class=\"data row0 col0\" >1.000000</td>\n",
              "      <td id=\"T_26dd7_row0_col1\" class=\"data row0 col1\" >-0.011425</td>\n",
              "      <td id=\"T_26dd7_row0_col2\" class=\"data row0 col2\" >0.112300</td>\n",
              "      <td id=\"T_26dd7_row0_col3\" class=\"data row0 col3\" >-0.168700</td>\n",
              "      <td id=\"T_26dd7_row0_col4\" class=\"data row0 col4\" >-0.031418</td>\n",
              "      <td id=\"T_26dd7_row0_col5\" class=\"data row0 col5\" >-0.000762</td>\n",
              "      <td id=\"T_26dd7_row0_col6\" class=\"data row0 col6\" >0.000189</td>\n",
              "      <td id=\"T_26dd7_row0_col7\" class=\"data row0 col7\" >-0.005278</td>\n",
              "      <td id=\"T_26dd7_row0_col8\" class=\"data row0 col8\" >0.002774</td>\n",
              "      <td id=\"T_26dd7_row0_col9\" class=\"data row0 col9\" >0.020169</td>\n",
              "    </tr>\n",
              "    <tr>\n",
              "      <th id=\"T_26dd7_level0_row1\" class=\"row_heading level0 row1\" >default</th>\n",
              "      <td id=\"T_26dd7_row1_col0\" class=\"data row1 col0\" >-0.011425</td>\n",
              "      <td id=\"T_26dd7_row1_col1\" class=\"data row1 col1\" >1.000000</td>\n",
              "      <td id=\"T_26dd7_row1_col2\" class=\"data row1 col2\" >-0.060954</td>\n",
              "      <td id=\"T_26dd7_row1_col3\" class=\"data row1 col3\" >0.011076</td>\n",
              "      <td id=\"T_26dd7_row1_col4\" class=\"data row1 col4\" >0.076434</td>\n",
              "      <td id=\"T_26dd7_row1_col5\" class=\"data row1 col5\" >0.017342</td>\n",
              "      <td id=\"T_26dd7_row1_col6\" class=\"data row1 col6\" >-0.009760</td>\n",
              "      <td id=\"T_26dd7_row1_col7\" class=\"data row1 col7\" >0.030975</td>\n",
              "      <td id=\"T_26dd7_row1_col8\" class=\"data row1 col8\" >-0.036282</td>\n",
              "      <td id=\"T_26dd7_row1_col9\" class=\"data row1 col9\" >-0.035273</td>\n",
              "    </tr>\n",
              "    <tr>\n",
              "      <th id=\"T_26dd7_level0_row2\" class=\"row_heading level0 row2\" >balance</th>\n",
              "      <td id=\"T_26dd7_row2_col0\" class=\"data row2 col0\" >0.112300</td>\n",
              "      <td id=\"T_26dd7_row2_col1\" class=\"data row2 col1\" >-0.060954</td>\n",
              "      <td id=\"T_26dd7_row2_col2\" class=\"data row2 col2\" >1.000000</td>\n",
              "      <td id=\"T_26dd7_row2_col3\" class=\"data row2 col3\" >-0.077092</td>\n",
              "      <td id=\"T_26dd7_row2_col4\" class=\"data row2 col4\" >-0.084589</td>\n",
              "      <td id=\"T_26dd7_row2_col5\" class=\"data row2 col5\" >0.010467</td>\n",
              "      <td id=\"T_26dd7_row2_col6\" class=\"data row2 col6\" >0.022436</td>\n",
              "      <td id=\"T_26dd7_row2_col7\" class=\"data row2 col7\" >-0.013894</td>\n",
              "      <td id=\"T_26dd7_row2_col8\" class=\"data row2 col8\" >0.017411</td>\n",
              "      <td id=\"T_26dd7_row2_col9\" class=\"data row2 col9\" >0.030805</td>\n",
              "    </tr>\n",
              "    <tr>\n",
              "      <th id=\"T_26dd7_level0_row3\" class=\"row_heading level0 row3\" >housing</th>\n",
              "      <td id=\"T_26dd7_row3_col0\" class=\"data row3 col0\" >-0.168700</td>\n",
              "      <td id=\"T_26dd7_row3_col1\" class=\"data row3 col1\" >0.011076</td>\n",
              "      <td id=\"T_26dd7_row3_col2\" class=\"data row3 col2\" >-0.077092</td>\n",
              "      <td id=\"T_26dd7_row3_col3\" class=\"data row3 col3\" >1.000000</td>\n",
              "      <td id=\"T_26dd7_row3_col4\" class=\"data row3 col4\" >0.076761</td>\n",
              "      <td id=\"T_26dd7_row3_col5\" class=\"data row3 col5\" >-0.014770</td>\n",
              "      <td id=\"T_26dd7_row3_col6\" class=\"data row3 col6\" >0.035051</td>\n",
              "      <td id=\"T_26dd7_row3_col7\" class=\"data row3 col7\" >0.006660</td>\n",
              "      <td id=\"T_26dd7_row3_col8\" class=\"data row3 col8\" >0.064497</td>\n",
              "      <td id=\"T_26dd7_row3_col9\" class=\"data row3 col9\" >-0.000840</td>\n",
              "    </tr>\n",
              "    <tr>\n",
              "      <th id=\"T_26dd7_level0_row4\" class=\"row_heading level0 row4\" >loan</th>\n",
              "      <td id=\"T_26dd7_row4_col0\" class=\"data row4 col0\" >-0.031418</td>\n",
              "      <td id=\"T_26dd7_row4_col1\" class=\"data row4 col1\" >0.076434</td>\n",
              "      <td id=\"T_26dd7_row4_col2\" class=\"data row4 col2\" >-0.084589</td>\n",
              "      <td id=\"T_26dd7_row4_col3\" class=\"data row4 col3\" >0.076761</td>\n",
              "      <td id=\"T_26dd7_row4_col4\" class=\"data row4 col4\" >1.000000</td>\n",
              "      <td id=\"T_26dd7_row4_col5\" class=\"data row4 col5\" >0.017269</td>\n",
              "      <td id=\"T_26dd7_row4_col6\" class=\"data row4 col6\" >-0.001914</td>\n",
              "      <td id=\"T_26dd7_row4_col7\" class=\"data row4 col7\" >0.034722</td>\n",
              "      <td id=\"T_26dd7_row4_col8\" class=\"data row4 col8\" >-0.030416</td>\n",
              "      <td id=\"T_26dd7_row4_col9\" class=\"data row4 col9\" >-0.022668</td>\n",
              "    </tr>\n",
              "    <tr>\n",
              "      <th id=\"T_26dd7_level0_row5\" class=\"row_heading level0 row5\" >day</th>\n",
              "      <td id=\"T_26dd7_row5_col0\" class=\"data row5 col0\" >-0.000762</td>\n",
              "      <td id=\"T_26dd7_row5_col1\" class=\"data row5 col1\" >0.017342</td>\n",
              "      <td id=\"T_26dd7_row5_col2\" class=\"data row5 col2\" >0.010467</td>\n",
              "      <td id=\"T_26dd7_row5_col3\" class=\"data row5 col3\" >-0.014770</td>\n",
              "      <td id=\"T_26dd7_row5_col4\" class=\"data row5 col4\" >0.017269</td>\n",
              "      <td id=\"T_26dd7_row5_col5\" class=\"data row5 col5\" >1.000000</td>\n",
              "      <td id=\"T_26dd7_row5_col6\" class=\"data row5 col6\" >-0.018511</td>\n",
              "      <td id=\"T_26dd7_row5_col7\" class=\"data row5 col7\" >0.137007</td>\n",
              "      <td id=\"T_26dd7_row5_col8\" class=\"data row5 col8\" >-0.077232</td>\n",
              "      <td id=\"T_26dd7_row5_col9\" class=\"data row5 col9\" >-0.058981</td>\n",
              "    </tr>\n",
              "    <tr>\n",
              "      <th id=\"T_26dd7_level0_row6\" class=\"row_heading level0 row6\" >duration</th>\n",
              "      <td id=\"T_26dd7_row6_col0\" class=\"data row6 col0\" >0.000189</td>\n",
              "      <td id=\"T_26dd7_row6_col1\" class=\"data row6 col1\" >-0.009760</td>\n",
              "      <td id=\"T_26dd7_row6_col2\" class=\"data row6 col2\" >0.022436</td>\n",
              "      <td id=\"T_26dd7_row6_col3\" class=\"data row6 col3\" >0.035051</td>\n",
              "      <td id=\"T_26dd7_row6_col4\" class=\"data row6 col4\" >-0.001914</td>\n",
              "      <td id=\"T_26dd7_row6_col5\" class=\"data row6 col5\" >-0.018511</td>\n",
              "      <td id=\"T_26dd7_row6_col6\" class=\"data row6 col6\" >1.000000</td>\n",
              "      <td id=\"T_26dd7_row6_col7\" class=\"data row6 col7\" >-0.041557</td>\n",
              "      <td id=\"T_26dd7_row6_col8\" class=\"data row6 col8\" >-0.027392</td>\n",
              "      <td id=\"T_26dd7_row6_col9\" class=\"data row6 col9\" >-0.026716</td>\n",
              "    </tr>\n",
              "    <tr>\n",
              "      <th id=\"T_26dd7_level0_row7\" class=\"row_heading level0 row7\" >campaign</th>\n",
              "      <td id=\"T_26dd7_row7_col0\" class=\"data row7 col0\" >-0.005278</td>\n",
              "      <td id=\"T_26dd7_row7_col1\" class=\"data row7 col1\" >0.030975</td>\n",
              "      <td id=\"T_26dd7_row7_col2\" class=\"data row7 col2\" >-0.013894</td>\n",
              "      <td id=\"T_26dd7_row7_col3\" class=\"data row7 col3\" >0.006660</td>\n",
              "      <td id=\"T_26dd7_row7_col4\" class=\"data row7 col4\" >0.034722</td>\n",
              "      <td id=\"T_26dd7_row7_col5\" class=\"data row7 col5\" >0.137007</td>\n",
              "      <td id=\"T_26dd7_row7_col6\" class=\"data row7 col6\" >-0.041557</td>\n",
              "      <td id=\"T_26dd7_row7_col7\" class=\"data row7 col7\" >1.000000</td>\n",
              "      <td id=\"T_26dd7_row7_col8\" class=\"data row7 col8\" >-0.102726</td>\n",
              "      <td id=\"T_26dd7_row7_col9\" class=\"data row7 col9\" >-0.049699</td>\n",
              "    </tr>\n",
              "    <tr>\n",
              "      <th id=\"T_26dd7_level0_row8\" class=\"row_heading level0 row8\" >pdays</th>\n",
              "      <td id=\"T_26dd7_row8_col0\" class=\"data row8 col0\" >0.002774</td>\n",
              "      <td id=\"T_26dd7_row8_col1\" class=\"data row8 col1\" >-0.036282</td>\n",
              "      <td id=\"T_26dd7_row8_col2\" class=\"data row8 col2\" >0.017411</td>\n",
              "      <td id=\"T_26dd7_row8_col3\" class=\"data row8 col3\" >0.064497</td>\n",
              "      <td id=\"T_26dd7_row8_col4\" class=\"data row8 col4\" >-0.030416</td>\n",
              "      <td id=\"T_26dd7_row8_col5\" class=\"data row8 col5\" >-0.077232</td>\n",
              "      <td id=\"T_26dd7_row8_col6\" class=\"data row8 col6\" >-0.027392</td>\n",
              "      <td id=\"T_26dd7_row8_col7\" class=\"data row8 col7\" >-0.102726</td>\n",
              "      <td id=\"T_26dd7_row8_col8\" class=\"data row8 col8\" >1.000000</td>\n",
              "      <td id=\"T_26dd7_row8_col9\" class=\"data row8 col9\" >0.507272</td>\n",
              "    </tr>\n",
              "    <tr>\n",
              "      <th id=\"T_26dd7_level0_row9\" class=\"row_heading level0 row9\" >previous</th>\n",
              "      <td id=\"T_26dd7_row9_col0\" class=\"data row9 col0\" >0.020169</td>\n",
              "      <td id=\"T_26dd7_row9_col1\" class=\"data row9 col1\" >-0.035273</td>\n",
              "      <td id=\"T_26dd7_row9_col2\" class=\"data row9 col2\" >0.030805</td>\n",
              "      <td id=\"T_26dd7_row9_col3\" class=\"data row9 col3\" >-0.000840</td>\n",
              "      <td id=\"T_26dd7_row9_col4\" class=\"data row9 col4\" >-0.022668</td>\n",
              "      <td id=\"T_26dd7_row9_col5\" class=\"data row9 col5\" >-0.058981</td>\n",
              "      <td id=\"T_26dd7_row9_col6\" class=\"data row9 col6\" >-0.026716</td>\n",
              "      <td id=\"T_26dd7_row9_col7\" class=\"data row9 col7\" >-0.049699</td>\n",
              "      <td id=\"T_26dd7_row9_col8\" class=\"data row9 col8\" >0.507272</td>\n",
              "      <td id=\"T_26dd7_row9_col9\" class=\"data row9 col9\" >1.000000</td>\n",
              "    </tr>\n",
              "  </tbody>\n",
              "</table>\n"
            ]
          },
          "metadata": {},
          "execution_count": 17
        }
      ]
    },
    {
      "cell_type": "markdown",
      "source": [
        "## Построение модели"
      ],
      "metadata": {
        "id": "G-1wo6DyVsyc"
      }
    },
    {
      "cell_type": "code",
      "source": [
        "from sklearn.linear_model import LogisticRegression\n",
        "from sklearn.model_selection import train_test_split\n",
        "from sklearn.preprocessing import StandardScaler\n",
        "\n",
        "X = df.drop(['deposit','job','marital','contact','poutcome','education','month'], axis =1)\n",
        "Y = df.deposit\n",
        "\n",
        "Xtrain,Xtest,Ytrain,Ytest = train_test_split(X,Y,test_size=0.25, random_state=42)\n",
        "\n",
        "ss= StandardScaler()\n",
        "ss.fit(Xtrain)\n",
        "\n",
        "model = LogisticRegression()\n",
        "model.fit(Xtrain,Ytrain)"
      ],
      "metadata": {
        "colab": {
          "base_uri": "https://localhost:8080/"
        },
        "id": "3Vi9u1cPMLAe",
        "outputId": "306d2470-b2c8-4a51-c6bd-9fc834a07282"
      },
      "execution_count": 18,
      "outputs": [
        {
          "output_type": "execute_result",
          "data": {
            "text/plain": [
              "LogisticRegression()"
            ]
          },
          "metadata": {},
          "execution_count": 18
        }
      ]
    },
    {
      "cell_type": "code",
      "source": [
        "from sklearn.metrics import accuracy_score,confusion_matrix,recall_score,precision_score, roc_auc_score\n",
        "prediction = model.predict(Xtest)\n",
        "accuracy_score(Ytest,prediction)"
      ],
      "metadata": {
        "colab": {
          "base_uri": "https://localhost:8080/"
        },
        "id": "97ky7KJ4YlqN",
        "outputId": "e9d72925-3b5b-4f32-9d5e-511cd0ca789d"
      },
      "execution_count": 29,
      "outputs": [
        {
          "output_type": "execute_result",
          "data": {
            "text/plain": [
              "0.7549265496237908"
            ]
          },
          "metadata": {},
          "execution_count": 29
        }
      ]
    },
    {
      "cell_type": "code",
      "source": [
        "pred_df = pd.DataFrame({'Prediction':prediction})\n",
        "pred_df.Prediction[pred_df['Prediction'] == 'no'], pred_df.Prediction[pred_df['Prediction'] == 'yes'] = 0,1\n",
        "Ytest_form = pd.DataFrame({'Fact':Ytest}) \n",
        "Ytest_form.Fact[Ytest_form['Fact'] == 'no'], Ytest_form.Fact[Ytest_form['Fact'] == 'yes'] = 0,1\n",
        "Ytest_form.value_counts()"
      ],
      "metadata": {
        "id": "g6Giudq-Rhbg",
        "outputId": "2634c0d0-75a8-44fe-b141-bdde442e07e7",
        "colab": {
          "base_uri": "https://localhost:8080/"
        }
      },
      "execution_count": 55,
      "outputs": [
        {
          "output_type": "execute_result",
          "data": {
            "text/plain": [
              "Fact\n",
              "0       1450\n",
              "1       1341\n",
              "dtype: int64"
            ]
          },
          "metadata": {},
          "execution_count": 55
        }
      ]
    },
    {
      "cell_type": "code",
      "source": [
        "mtrx = confusion_matrix(Ytest,prediction)\n",
        "mtrx"
      ],
      "metadata": {
        "colab": {
          "base_uri": "https://localhost:8080/"
        },
        "id": "7SjkvXh7ZAyd",
        "outputId": "656da384-f59a-488d-952e-58ebdf89cc3f"
      },
      "execution_count": 38,
      "outputs": [
        {
          "output_type": "execute_result",
          "data": {
            "text/plain": [
              "array([[1450,    0],\n",
              "       [   0, 1341]])"
            ]
          },
          "metadata": {},
          "execution_count": 38
        }
      ]
    },
    {
      "cell_type": "code",
      "source": [
        "recall_score(Ytest,prediction, pos_label='no')"
      ],
      "metadata": {
        "colab": {
          "base_uri": "https://localhost:8080/"
        },
        "id": "EwLZUfh0Ze9m",
        "outputId": "4c6f5070-866e-4567-9564-ba8de12f425a"
      },
      "execution_count": 67,
      "outputs": [
        {
          "output_type": "execute_result",
          "data": {
            "text/plain": [
              "0.7951724137931034"
            ]
          },
          "metadata": {},
          "execution_count": 67
        }
      ]
    },
    {
      "cell_type": "code",
      "source": [
        "precision_score(Ytest,prediction, pos_label='no')"
      ],
      "metadata": {
        "colab": {
          "base_uri": "https://localhost:8080/"
        },
        "id": "z6i9ZvU3ZmHt",
        "outputId": "e128e235-315f-4e43-a1dd-3af90e82b37f"
      },
      "execution_count": 68,
      "outputs": [
        {
          "output_type": "execute_result",
          "data": {
            "text/plain": [
              "0.7487012987012988"
            ]
          },
          "metadata": {},
          "execution_count": 68
        }
      ]
    },
    {
      "cell_type": "code",
      "source": [
        "Probs = model.predict_proba(Xtest)\n",
        "Probs[:15] #все ок сбалансировано"
      ],
      "metadata": {
        "colab": {
          "base_uri": "https://localhost:8080/"
        },
        "id": "XgDZYMhK6RTo",
        "outputId": "901160e2-6f2b-4747-a805-ca09e4b21cb4"
      },
      "execution_count": 60,
      "outputs": [
        {
          "output_type": "execute_result",
          "data": {
            "text/plain": [
              "array([[0.66716084, 0.33283916],\n",
              "       [0.02044097, 0.97955903],\n",
              "       [0.35212515, 0.64787485],\n",
              "       [0.07955404, 0.92044596],\n",
              "       [0.87479258, 0.12520742],\n",
              "       [0.34769357, 0.65230643],\n",
              "       [0.70967968, 0.29032032],\n",
              "       [0.84291152, 0.15708848],\n",
              "       [0.45921967, 0.54078033],\n",
              "       [0.11260388, 0.88739612],\n",
              "       [0.38952752, 0.61047248],\n",
              "       [0.84576521, 0.15423479],\n",
              "       [0.39007761, 0.60992239],\n",
              "       [0.29278168, 0.70721832],\n",
              "       [0.24856523, 0.75143477]])"
            ]
          },
          "metadata": {},
          "execution_count": 60
        }
      ]
    },
    {
      "cell_type": "code",
      "source": [
        "roc_auc_score(Ytest,Probs[:,1])"
      ],
      "metadata": {
        "id": "EiZdyJ7iU3sk"
      },
      "execution_count": null,
      "outputs": []
    },
    {
      "cell_type": "code",
      "source": [],
      "metadata": {
        "id": "hwRCoR-vY5ul"
      },
      "execution_count": null,
      "outputs": []
    },
    {
      "cell_type": "code",
      "source": [
        "model.coef_, model.intercept_\n",
        "coefs = pd.DataFrame( {'features':list(X.columns),'weights': list(model.coef_[0])})\n",
        "coefs"
      ],
      "metadata": {
        "colab": {
          "base_uri": "https://localhost:8080/",
          "height": 363
        },
        "id": "BAFmnVve5loH",
        "outputId": "f253389f-4540-4227-8450-0c3883f71516"
      },
      "execution_count": 24,
      "outputs": [
        {
          "output_type": "execute_result",
          "data": {
            "text/plain": [
              "   features   weights\n",
              "0       age -0.016790\n",
              "1   default -0.029444\n",
              "2   balance  0.000034\n",
              "3   housing -0.969108\n",
              "4      loan -0.266718\n",
              "5       day -0.016510\n",
              "6  duration  0.004587\n",
              "7  campaign -0.121285\n",
              "8     pdays  0.000577\n",
              "9  previous  0.347137"
            ],
            "text/html": [
              "\n",
              "  <div id=\"df-ab6aa5f9-2760-4367-b61f-9dc68bc41226\">\n",
              "    <div class=\"colab-df-container\">\n",
              "      <div>\n",
              "<style scoped>\n",
              "    .dataframe tbody tr th:only-of-type {\n",
              "        vertical-align: middle;\n",
              "    }\n",
              "\n",
              "    .dataframe tbody tr th {\n",
              "        vertical-align: top;\n",
              "    }\n",
              "\n",
              "    .dataframe thead th {\n",
              "        text-align: right;\n",
              "    }\n",
              "</style>\n",
              "<table border=\"1\" class=\"dataframe\">\n",
              "  <thead>\n",
              "    <tr style=\"text-align: right;\">\n",
              "      <th></th>\n",
              "      <th>features</th>\n",
              "      <th>weights</th>\n",
              "    </tr>\n",
              "  </thead>\n",
              "  <tbody>\n",
              "    <tr>\n",
              "      <th>0</th>\n",
              "      <td>age</td>\n",
              "      <td>-0.016790</td>\n",
              "    </tr>\n",
              "    <tr>\n",
              "      <th>1</th>\n",
              "      <td>default</td>\n",
              "      <td>-0.029444</td>\n",
              "    </tr>\n",
              "    <tr>\n",
              "      <th>2</th>\n",
              "      <td>balance</td>\n",
              "      <td>0.000034</td>\n",
              "    </tr>\n",
              "    <tr>\n",
              "      <th>3</th>\n",
              "      <td>housing</td>\n",
              "      <td>-0.969108</td>\n",
              "    </tr>\n",
              "    <tr>\n",
              "      <th>4</th>\n",
              "      <td>loan</td>\n",
              "      <td>-0.266718</td>\n",
              "    </tr>\n",
              "    <tr>\n",
              "      <th>5</th>\n",
              "      <td>day</td>\n",
              "      <td>-0.016510</td>\n",
              "    </tr>\n",
              "    <tr>\n",
              "      <th>6</th>\n",
              "      <td>duration</td>\n",
              "      <td>0.004587</td>\n",
              "    </tr>\n",
              "    <tr>\n",
              "      <th>7</th>\n",
              "      <td>campaign</td>\n",
              "      <td>-0.121285</td>\n",
              "    </tr>\n",
              "    <tr>\n",
              "      <th>8</th>\n",
              "      <td>pdays</td>\n",
              "      <td>0.000577</td>\n",
              "    </tr>\n",
              "    <tr>\n",
              "      <th>9</th>\n",
              "      <td>previous</td>\n",
              "      <td>0.347137</td>\n",
              "    </tr>\n",
              "  </tbody>\n",
              "</table>\n",
              "</div>\n",
              "      <button class=\"colab-df-convert\" onclick=\"convertToInteractive('df-ab6aa5f9-2760-4367-b61f-9dc68bc41226')\"\n",
              "              title=\"Convert this dataframe to an interactive table.\"\n",
              "              style=\"display:none;\">\n",
              "        \n",
              "  <svg xmlns=\"http://www.w3.org/2000/svg\" height=\"24px\"viewBox=\"0 0 24 24\"\n",
              "       width=\"24px\">\n",
              "    <path d=\"M0 0h24v24H0V0z\" fill=\"none\"/>\n",
              "    <path d=\"M18.56 5.44l.94 2.06.94-2.06 2.06-.94-2.06-.94-.94-2.06-.94 2.06-2.06.94zm-11 1L8.5 8.5l.94-2.06 2.06-.94-2.06-.94L8.5 2.5l-.94 2.06-2.06.94zm10 10l.94 2.06.94-2.06 2.06-.94-2.06-.94-.94-2.06-.94 2.06-2.06.94z\"/><path d=\"M17.41 7.96l-1.37-1.37c-.4-.4-.92-.59-1.43-.59-.52 0-1.04.2-1.43.59L10.3 9.45l-7.72 7.72c-.78.78-.78 2.05 0 2.83L4 21.41c.39.39.9.59 1.41.59.51 0 1.02-.2 1.41-.59l7.78-7.78 2.81-2.81c.8-.78.8-2.07 0-2.86zM5.41 20L4 18.59l7.72-7.72 1.47 1.35L5.41 20z\"/>\n",
              "  </svg>\n",
              "      </button>\n",
              "      \n",
              "  <style>\n",
              "    .colab-df-container {\n",
              "      display:flex;\n",
              "      flex-wrap:wrap;\n",
              "      gap: 12px;\n",
              "    }\n",
              "\n",
              "    .colab-df-convert {\n",
              "      background-color: #E8F0FE;\n",
              "      border: none;\n",
              "      border-radius: 50%;\n",
              "      cursor: pointer;\n",
              "      display: none;\n",
              "      fill: #1967D2;\n",
              "      height: 32px;\n",
              "      padding: 0 0 0 0;\n",
              "      width: 32px;\n",
              "    }\n",
              "\n",
              "    .colab-df-convert:hover {\n",
              "      background-color: #E2EBFA;\n",
              "      box-shadow: 0px 1px 2px rgba(60, 64, 67, 0.3), 0px 1px 3px 1px rgba(60, 64, 67, 0.15);\n",
              "      fill: #174EA6;\n",
              "    }\n",
              "\n",
              "    [theme=dark] .colab-df-convert {\n",
              "      background-color: #3B4455;\n",
              "      fill: #D2E3FC;\n",
              "    }\n",
              "\n",
              "    [theme=dark] .colab-df-convert:hover {\n",
              "      background-color: #434B5C;\n",
              "      box-shadow: 0px 1px 3px 1px rgba(0, 0, 0, 0.15);\n",
              "      filter: drop-shadow(0px 1px 2px rgba(0, 0, 0, 0.3));\n",
              "      fill: #FFFFFF;\n",
              "    }\n",
              "  </style>\n",
              "\n",
              "      <script>\n",
              "        const buttonEl =\n",
              "          document.querySelector('#df-ab6aa5f9-2760-4367-b61f-9dc68bc41226 button.colab-df-convert');\n",
              "        buttonEl.style.display =\n",
              "          google.colab.kernel.accessAllowed ? 'block' : 'none';\n",
              "\n",
              "        async function convertToInteractive(key) {\n",
              "          const element = document.querySelector('#df-ab6aa5f9-2760-4367-b61f-9dc68bc41226');\n",
              "          const dataTable =\n",
              "            await google.colab.kernel.invokeFunction('convertToInteractive',\n",
              "                                                     [key], {});\n",
              "          if (!dataTable) return;\n",
              "\n",
              "          const docLinkHtml = 'Like what you see? Visit the ' +\n",
              "            '<a target=\"_blank\" href=https://colab.research.google.com/notebooks/data_table.ipynb>data table notebook</a>'\n",
              "            + ' to learn more about interactive tables.';\n",
              "          element.innerHTML = '';\n",
              "          dataTable['output_type'] = 'display_data';\n",
              "          await google.colab.output.renderOutput(dataTable, element);\n",
              "          const docLink = document.createElement('div');\n",
              "          docLink.innerHTML = docLinkHtml;\n",
              "          element.appendChild(docLink);\n",
              "        }\n",
              "      </script>\n",
              "    </div>\n",
              "  </div>\n",
              "  "
            ]
          },
          "metadata": {},
          "execution_count": 24
        }
      ]
    },
    {
      "cell_type": "markdown",
      "source": [
        "##KNN"
      ],
      "metadata": {
        "id": "32xE5Hga-AVX"
      }
    },
    {
      "cell_type": "code",
      "source": [
        "from sklearn.neighbors import KNeighborsClassifier\n",
        "\n",
        "knn = KNeighborsClassifier(weights='uniform')\n",
        "\n",
        "knn.fit(Xtrain, Ytrain)\n",
        "knn_pred = knn.predict(Xtest)\n",
        "confusion_matrix(Ytest,knn_pred)"
      ],
      "metadata": {
        "colab": {
          "base_uri": "https://localhost:8080/"
        },
        "id": "8hzwn0y166YQ",
        "outputId": "63b581fe-03a6-4367-c805-b3e47b49b1c4"
      },
      "execution_count": 25,
      "outputs": [
        {
          "output_type": "execute_result",
          "data": {
            "text/plain": [
              "array([[1115,  335],\n",
              "       [ 369,  972]])"
            ]
          },
          "metadata": {},
          "execution_count": 25
        }
      ]
    },
    {
      "cell_type": "code",
      "source": [
        "recall_score(Ytest,knn_pred, pos_label = 'no')"
      ],
      "metadata": {
        "colab": {
          "base_uri": "https://localhost:8080/"
        },
        "id": "nCD0O9nA7i1m",
        "outputId": "f06b0c3e-5213-4c14-eb20-fd7f5f8f9489"
      },
      "execution_count": 26,
      "outputs": [
        {
          "output_type": "execute_result",
          "data": {
            "text/plain": [
              "0.7689655172413793"
            ]
          },
          "metadata": {},
          "execution_count": 26
        }
      ]
    },
    {
      "cell_type": "code",
      "source": [
        "precision_score(Ytest,knn_pred, pos_label = 'no')"
      ],
      "metadata": {
        "colab": {
          "base_uri": "https://localhost:8080/"
        },
        "id": "LJaccJsk8iT-",
        "outputId": "a8da716b-8a8c-4c17-b28a-53faca9bdf28"
      },
      "execution_count": 27,
      "outputs": [
        {
          "output_type": "execute_result",
          "data": {
            "text/plain": [
              "0.7513477088948787"
            ]
          },
          "metadata": {},
          "execution_count": 27
        }
      ]
    },
    {
      "cell_type": "markdown",
      "source": [
        "##Dummy variables"
      ],
      "metadata": {
        "id": "aPjSY5xw-Fcv"
      }
    },
    {
      "cell_type": "code",
      "source": [
        "\n",
        "df.info()"
      ],
      "metadata": {
        "id": "FN2spGr8Zkct",
        "outputId": "da3fb934-98c9-4c33-c78f-d782c524c582",
        "colab": {
          "base_uri": "https://localhost:8080/"
        }
      },
      "execution_count": 66,
      "outputs": [
        {
          "output_type": "stream",
          "name": "stdout",
          "text": [
            "<class 'pandas.core.frame.DataFrame'>\n",
            "Int64Index: 11162 entries, 0 to 11161\n",
            "Data columns (total 17 columns):\n",
            " #   Column     Non-Null Count  Dtype \n",
            "---  ------     --------------  ----- \n",
            " 0   age        11162 non-null  int64 \n",
            " 1   job        11162 non-null  object\n",
            " 2   marital    11162 non-null  object\n",
            " 3   education  11162 non-null  object\n",
            " 4   default    11162 non-null  int64 \n",
            " 5   balance    11162 non-null  int64 \n",
            " 6   housing    11162 non-null  int64 \n",
            " 7   loan       11162 non-null  int64 \n",
            " 8   contact    11162 non-null  object\n",
            " 9   day        11162 non-null  int64 \n",
            " 10  month      11162 non-null  object\n",
            " 11  duration   11162 non-null  int64 \n",
            " 12  campaign   11162 non-null  int64 \n",
            " 13  pdays      11162 non-null  int64 \n",
            " 14  previous   11162 non-null  int64 \n",
            " 15  poutcome   11162 non-null  object\n",
            " 16  deposit    11162 non-null  object\n",
            "dtypes: int64(10), object(7)\n",
            "memory usage: 1.5+ MB\n"
          ]
        }
      ]
    },
    {
      "cell_type": "code",
      "source": [
        "from sklearn.preprocessing import OneHotEncoder\n",
        "from sklearn.compose import ColumnTransformer\n",
        "\n",
        "Xtrain, Xtest, ytrain, ytest = train_test_split(df.drop('deposit', axis=1), df.deposit, test_size=0.25, random_state=42)\n",
        "X = df.drop(['deposit','job','marital','contact','poutcome','education','month'], axis =1)\n",
        "categorical = ['job','marital','education','contact','month','poutcome']\n",
        "\n",
        "column_transformer = ColumnTransformer([\n",
        "    ('ohe', OneHotEncoder(handle_unknown=\"ignore\"), categorical),\n",
        "    ('scaling', StandardScaler(), X.columns)\n",
        "])\n",
        "\n",
        "X_transformed = column_transformer.fit_transform(Xtrain)\n",
        "X_test_transformed = column_transformer.transform(Xtest)"
      ],
      "metadata": {
        "id": "5H2_Q5ia-IAX"
      },
      "execution_count": 82,
      "outputs": []
    },
    {
      "cell_type": "markdown",
      "source": [
        "##Linear Regression with Dummies"
      ],
      "metadata": {
        "id": "5NwuRLh84eCw"
      }
    },
    {
      "cell_type": "code",
      "source": [
        "model2 = LogisticRegression()\n",
        "model2.fit(X_transformed,ytrain)\n",
        "ohe_LgRg = model2.predict(X_test_transformed)\n",
        "ohe_LgRg_proba = model2.predict_proba(X_test_transformed)"
      ],
      "metadata": {
        "id": "3YjfvQkKwxqj"
      },
      "execution_count": 86,
      "outputs": []
    },
    {
      "cell_type": "code",
      "source": [
        "print('Precision',round(precision_score(Ytest,ohe_LgRg, pos_label = 'no'),2))\n",
        "print('Recall',round(recall_score(Ytest,ohe_LgRg, pos_label = 'no'),2))\n",
        "print('ROC AUC',round(roc_auc_score(Ytest,ohe_LgRg_proba [:,1]),2))"
      ],
      "metadata": {
        "id": "rflJp9Kyw9Lt",
        "outputId": "8db6c009-3427-4d0f-c7b5-f72cd6a52fe9",
        "colab": {
          "base_uri": "https://localhost:8080/"
        }
      },
      "execution_count": 98,
      "outputs": [
        {
          "output_type": "stream",
          "name": "stdout",
          "text": [
            "Precision 0.8\n",
            "Recall 0.84\n",
            "ROC AUC 0.9\n"
          ]
        }
      ]
    },
    {
      "cell_type": "markdown",
      "source": [
        "## Boost"
      ],
      "metadata": {
        "id": "ALHcodT54iNS"
      }
    },
    {
      "cell_type": "code",
      "source": [
        "from catboost import CatBoostClassifier, Pool\n",
        "\n",
        "cat = CatBoostClassifier(iterations=1000,\n",
        "                         depth = 3,\n",
        "                         learning_rate = 0.01,\n",
        "                         loss_function='Logloss',\n",
        "                         eval_metric = 'AUC',\n",
        "                         verbose=False)\n",
        "cat.fit(X_transformed, ytrain)\n",
        "ohe_boost = cat.predict(X_test_transformed)   \n",
        "ohe_boost_proba = cat.predict_proba(X_test_transformed)   "
      ],
      "metadata": {
        "id": "HrIqklSv0HB_"
      },
      "execution_count": 115,
      "outputs": []
    },
    {
      "cell_type": "code",
      "source": [
        "print('Precision',round(precision_score(Ytest,ohe_boost, pos_label = 'no'),2))\n",
        "print('Recall',round(recall_score(Ytest,ohe_boost, pos_label = 'no'),2))\n",
        "print('ROC AUC',round(roc_auc_score(Ytest,ohe_boost_proba [:,1]),2))"
      ],
      "metadata": {
        "id": "eeDJKygc1-XV",
        "outputId": "3030c1a6-f8e5-4f03-df58-b575654a2101",
        "colab": {
          "base_uri": "https://localhost:8080/"
        }
      },
      "execution_count": 116,
      "outputs": [
        {
          "output_type": "stream",
          "name": "stdout",
          "text": [
            "Precision 0.85\n",
            "Recall 0.83\n",
            "ROC AUC 0.91\n"
          ]
        }
      ]
    },
    {
      "cell_type": "code",
      "source": [],
      "metadata": {
        "id": "4RPtTlFO4PEF"
      },
      "execution_count": null,
      "outputs": []
    }
  ]
}