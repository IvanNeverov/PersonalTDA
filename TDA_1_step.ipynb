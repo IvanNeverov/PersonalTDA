{
  "nbformat": 4,
  "nbformat_minor": 0,
  "metadata": {
    "colab": {
      "provenance": [],
      "collapsed_sections": [
        "YoLnk7G-OTHi",
        "grXguEekOYDZ",
        "G-1wo6DyVsyc"
      ],
      "authorship_tag": "ABX9TyOXY3FOLtroL2MCLdQjUxuQ",
      "include_colab_link": true
    },
    "kernelspec": {
      "name": "python3",
      "display_name": "Python 3"
    },
    "language_info": {
      "name": "python"
    }
  },
  "cells": [
    {
      "cell_type": "markdown",
      "metadata": {
        "id": "view-in-github",
        "colab_type": "text"
      },
      "source": [
        "<a href=\"https://colab.research.google.com/github/IvanNeverov/PersonalTDA/blob/main/TDA_1_step.ipynb\" target=\"_parent\"><img src=\"https://colab.research.google.com/assets/colab-badge.svg\" alt=\"Open In Colab\"/></a>"
      ]
    },
    {
      "cell_type": "code",
      "execution_count": null,
      "metadata": {
        "id": "Hhtvd_PE00xf"
      },
      "outputs": [],
      "source": [
        "import pandas as pd\n",
        "import numpy as np\n",
        "from matplotlib import pyplot as plt\n",
        "from sklearn.linear_model import LogisticRegression\n",
        "\n",
        "import warnings\n",
        "warnings.filterwarnings(\"ignore\")"
      ]
    },
    {
      "cell_type": "code",
      "source": [
        "!mkdir -p ~/.postgresql && \\\n",
        "wget \"https://storage.yandexcloud.net/cloud-certs/CA.pem\" \\\n",
        "    --output-document ~/.postgresql/root.crt && \\\n",
        "chmod 0600 ~/.postgresql/root.crt"
      ],
      "metadata": {
        "id": "HSBK3nxO05zM"
      },
      "execution_count": null,
      "outputs": []
    },
    {
      "cell_type": "code",
      "source": [
        "!sudo apt update && sudo apt install --yes python3 python3-pip && \\\n",
        "!pip3 install psycopg2-binary"
      ],
      "metadata": {
        "id": "NC09AJwu07cS"
      },
      "execution_count": null,
      "outputs": []
    },
    {
      "cell_type": "code",
      "source": [
        "# import psycopg2\n",
        "\n",
        "# conn = psycopg2.connect(\"\"\"\n",
        "#     host=rc1b-70q90cunwkzx49mj.mdb.yandexcloud.net\n",
        "#     port=6432\n",
        "#     sslmode=verify-full\n",
        "#     dbname=db_clients\n",
        "#     user=mlhs_student\n",
        "#     password=mlhs_student\n",
        "#     target_session_attrs=read-write\n",
        "# \"\"\")"
      ],
      "metadata": {
        "id": "g3zF3kRV07sj"
      },
      "execution_count": null,
      "outputs": []
    },
    {
      "cell_type": "markdown",
      "source": [
        "##Загрузка данных"
      ],
      "metadata": {
        "id": "YoLnk7G-OTHi"
      }
    },
    {
      "cell_type": "code",
      "source": [
        "import pandas as pd\n",
        "df = pd.read_csv('/deposits_data.csv')"
      ],
      "metadata": {
        "id": "pIZlx6kc099c"
      },
      "execution_count": null,
      "outputs": []
    },
    {
      "cell_type": "markdown",
      "source": [
        "##Обработка"
      ],
      "metadata": {
        "id": "grXguEekOYDZ"
      }
    },
    {
      "cell_type": "code",
      "source": [
        "# df.head()\n",
        "df.info()\n",
        "# df.describe()"
      ],
      "metadata": {
        "colab": {
          "base_uri": "https://localhost:8080/"
        },
        "id": "3v0yUH3H24DR",
        "outputId": "c1bc0f52-3fb8-4502-9026-d5e1f22e7b26"
      },
      "execution_count": null,
      "outputs": [
        {
          "output_type": "stream",
          "name": "stdout",
          "text": [
            "<class 'pandas.core.frame.DataFrame'>\n",
            "RangeIndex: 11162 entries, 0 to 11161\n",
            "Data columns (total 17 columns):\n",
            " #   Column     Non-Null Count  Dtype \n",
            "---  ------     --------------  ----- \n",
            " 0   age        11162 non-null  int64 \n",
            " 1   job        11162 non-null  object\n",
            " 2   marital    11162 non-null  object\n",
            " 3   education  11162 non-null  object\n",
            " 4   default    11162 non-null  object\n",
            " 5   balance    11162 non-null  int64 \n",
            " 6   housing    11162 non-null  object\n",
            " 7   loan       11162 non-null  object\n",
            " 8   contact    11162 non-null  object\n",
            " 9   day        11162 non-null  int64 \n",
            " 10  month      11162 non-null  object\n",
            " 11  duration   11162 non-null  int64 \n",
            " 12  campaign   11162 non-null  int64 \n",
            " 13  pdays      11162 non-null  int64 \n",
            " 14  previous   11162 non-null  int64 \n",
            " 15  poutcome   11162 non-null  object\n",
            " 16  deposit    11162 non-null  object\n",
            "dtypes: int64(7), object(10)\n",
            "memory usage: 1.4+ MB\n"
          ]
        }
      ]
    },
    {
      "cell_type": "code",
      "source": [
        "df.deposit.value_counts()\n",
        "df.default = df.default.map(dict(no = 0, yes=1))\n",
        "df.housing = df.housing.map(dict(no = 0, yes=1))\n",
        "df.loan = df.loan.map(dict(no = 0, yes=1))\n",
        "df.info()"
      ],
      "metadata": {
        "colab": {
          "base_uri": "https://localhost:8080/"
        },
        "id": "pyiytzhGFC-h",
        "outputId": "5483038b-af6a-4091-e102-f97ce65f9ee9"
      },
      "execution_count": null,
      "outputs": [
        {
          "output_type": "stream",
          "name": "stdout",
          "text": [
            "<class 'pandas.core.frame.DataFrame'>\n",
            "RangeIndex: 11162 entries, 0 to 11161\n",
            "Data columns (total 17 columns):\n",
            " #   Column     Non-Null Count  Dtype \n",
            "---  ------     --------------  ----- \n",
            " 0   age        11162 non-null  int64 \n",
            " 1   job        11162 non-null  object\n",
            " 2   marital    11162 non-null  object\n",
            " 3   education  11162 non-null  object\n",
            " 4   default    11162 non-null  int64 \n",
            " 5   balance    11162 non-null  int64 \n",
            " 6   housing    11162 non-null  int64 \n",
            " 7   loan       11162 non-null  int64 \n",
            " 8   contact    11162 non-null  object\n",
            " 9   day        11162 non-null  int64 \n",
            " 10  month      11162 non-null  object\n",
            " 11  duration   11162 non-null  int64 \n",
            " 12  campaign   11162 non-null  int64 \n",
            " 13  pdays      11162 non-null  int64 \n",
            " 14  previous   11162 non-null  int64 \n",
            " 15  poutcome   11162 non-null  object\n",
            " 16  deposit    11162 non-null  object\n",
            "dtypes: int64(10), object(7)\n",
            "memory usage: 1.4+ MB\n"
          ]
        }
      ]
    },
    {
      "cell_type": "code",
      "source": [
        "df.drop_duplicates(inplace = True)\n"
      ],
      "metadata": {
        "id": "pHbwMtQG26B4"
      },
      "execution_count": null,
      "outputs": []
    },
    {
      "cell_type": "code",
      "source": [
        "df.deposit.value_counts() "
      ],
      "metadata": {
        "colab": {
          "base_uri": "https://localhost:8080/"
        },
        "id": "qv5SkL0W5Z-V",
        "outputId": "55a81532-d53e-468a-aa7f-bf1b6cf9ebc2"
      },
      "execution_count": null,
      "outputs": [
        {
          "output_type": "execute_result",
          "data": {
            "text/plain": [
              "no     5873\n",
              "yes    5289\n",
              "Name: deposit, dtype: int64"
            ]
          },
          "metadata": {},
          "execution_count": 10
        }
      ]
    },
    {
      "cell_type": "code",
      "source": [
        "df.groupby('deposit').mean()"
      ],
      "metadata": {
        "colab": {
          "base_uri": "https://localhost:8080/",
          "height": 143
        },
        "id": "9eMk7vPhEnBA",
        "outputId": "db92540f-c2c3-4280-c35e-4ea5d8a35ade"
      },
      "execution_count": null,
      "outputs": [
        {
          "output_type": "execute_result",
          "data": {
            "text/plain": [
              "               age   default      balance   housing      loan        day  \\\n",
              "deposit                                                                    \n",
              "no       40.837391  0.019751  1280.227141  0.569726  0.166184  16.108122   \n",
              "yes      41.670070  0.009832  1804.267915  0.365854  0.091511  15.158253   \n",
              "\n",
              "           duration  campaign      pdays  previous  \n",
              "deposit                                             \n",
              "no       223.130257  2.839264  35.685340  0.528350  \n",
              "yes      537.294574  2.141047  68.702968  1.170354  "
            ],
            "text/html": [
              "\n",
              "  <div id=\"df-e9783aff-c88e-410e-9367-1026f83a5164\">\n",
              "    <div class=\"colab-df-container\">\n",
              "      <div>\n",
              "<style scoped>\n",
              "    .dataframe tbody tr th:only-of-type {\n",
              "        vertical-align: middle;\n",
              "    }\n",
              "\n",
              "    .dataframe tbody tr th {\n",
              "        vertical-align: top;\n",
              "    }\n",
              "\n",
              "    .dataframe thead th {\n",
              "        text-align: right;\n",
              "    }\n",
              "</style>\n",
              "<table border=\"1\" class=\"dataframe\">\n",
              "  <thead>\n",
              "    <tr style=\"text-align: right;\">\n",
              "      <th></th>\n",
              "      <th>age</th>\n",
              "      <th>default</th>\n",
              "      <th>balance</th>\n",
              "      <th>housing</th>\n",
              "      <th>loan</th>\n",
              "      <th>day</th>\n",
              "      <th>duration</th>\n",
              "      <th>campaign</th>\n",
              "      <th>pdays</th>\n",
              "      <th>previous</th>\n",
              "    </tr>\n",
              "    <tr>\n",
              "      <th>deposit</th>\n",
              "      <th></th>\n",
              "      <th></th>\n",
              "      <th></th>\n",
              "      <th></th>\n",
              "      <th></th>\n",
              "      <th></th>\n",
              "      <th></th>\n",
              "      <th></th>\n",
              "      <th></th>\n",
              "      <th></th>\n",
              "    </tr>\n",
              "  </thead>\n",
              "  <tbody>\n",
              "    <tr>\n",
              "      <th>no</th>\n",
              "      <td>40.837391</td>\n",
              "      <td>0.019751</td>\n",
              "      <td>1280.227141</td>\n",
              "      <td>0.569726</td>\n",
              "      <td>0.166184</td>\n",
              "      <td>16.108122</td>\n",
              "      <td>223.130257</td>\n",
              "      <td>2.839264</td>\n",
              "      <td>35.685340</td>\n",
              "      <td>0.528350</td>\n",
              "    </tr>\n",
              "    <tr>\n",
              "      <th>yes</th>\n",
              "      <td>41.670070</td>\n",
              "      <td>0.009832</td>\n",
              "      <td>1804.267915</td>\n",
              "      <td>0.365854</td>\n",
              "      <td>0.091511</td>\n",
              "      <td>15.158253</td>\n",
              "      <td>537.294574</td>\n",
              "      <td>2.141047</td>\n",
              "      <td>68.702968</td>\n",
              "      <td>1.170354</td>\n",
              "    </tr>\n",
              "  </tbody>\n",
              "</table>\n",
              "</div>\n",
              "      <button class=\"colab-df-convert\" onclick=\"convertToInteractive('df-e9783aff-c88e-410e-9367-1026f83a5164')\"\n",
              "              title=\"Convert this dataframe to an interactive table.\"\n",
              "              style=\"display:none;\">\n",
              "        \n",
              "  <svg xmlns=\"http://www.w3.org/2000/svg\" height=\"24px\"viewBox=\"0 0 24 24\"\n",
              "       width=\"24px\">\n",
              "    <path d=\"M0 0h24v24H0V0z\" fill=\"none\"/>\n",
              "    <path d=\"M18.56 5.44l.94 2.06.94-2.06 2.06-.94-2.06-.94-.94-2.06-.94 2.06-2.06.94zm-11 1L8.5 8.5l.94-2.06 2.06-.94-2.06-.94L8.5 2.5l-.94 2.06-2.06.94zm10 10l.94 2.06.94-2.06 2.06-.94-2.06-.94-.94-2.06-.94 2.06-2.06.94z\"/><path d=\"M17.41 7.96l-1.37-1.37c-.4-.4-.92-.59-1.43-.59-.52 0-1.04.2-1.43.59L10.3 9.45l-7.72 7.72c-.78.78-.78 2.05 0 2.83L4 21.41c.39.39.9.59 1.41.59.51 0 1.02-.2 1.41-.59l7.78-7.78 2.81-2.81c.8-.78.8-2.07 0-2.86zM5.41 20L4 18.59l7.72-7.72 1.47 1.35L5.41 20z\"/>\n",
              "  </svg>\n",
              "      </button>\n",
              "      \n",
              "  <style>\n",
              "    .colab-df-container {\n",
              "      display:flex;\n",
              "      flex-wrap:wrap;\n",
              "      gap: 12px;\n",
              "    }\n",
              "\n",
              "    .colab-df-convert {\n",
              "      background-color: #E8F0FE;\n",
              "      border: none;\n",
              "      border-radius: 50%;\n",
              "      cursor: pointer;\n",
              "      display: none;\n",
              "      fill: #1967D2;\n",
              "      height: 32px;\n",
              "      padding: 0 0 0 0;\n",
              "      width: 32px;\n",
              "    }\n",
              "\n",
              "    .colab-df-convert:hover {\n",
              "      background-color: #E2EBFA;\n",
              "      box-shadow: 0px 1px 2px rgba(60, 64, 67, 0.3), 0px 1px 3px 1px rgba(60, 64, 67, 0.15);\n",
              "      fill: #174EA6;\n",
              "    }\n",
              "\n",
              "    [theme=dark] .colab-df-convert {\n",
              "      background-color: #3B4455;\n",
              "      fill: #D2E3FC;\n",
              "    }\n",
              "\n",
              "    [theme=dark] .colab-df-convert:hover {\n",
              "      background-color: #434B5C;\n",
              "      box-shadow: 0px 1px 3px 1px rgba(0, 0, 0, 0.15);\n",
              "      filter: drop-shadow(0px 1px 2px rgba(0, 0, 0, 0.3));\n",
              "      fill: #FFFFFF;\n",
              "    }\n",
              "  </style>\n",
              "\n",
              "      <script>\n",
              "        const buttonEl =\n",
              "          document.querySelector('#df-e9783aff-c88e-410e-9367-1026f83a5164 button.colab-df-convert');\n",
              "        buttonEl.style.display =\n",
              "          google.colab.kernel.accessAllowed ? 'block' : 'none';\n",
              "\n",
              "        async function convertToInteractive(key) {\n",
              "          const element = document.querySelector('#df-e9783aff-c88e-410e-9367-1026f83a5164');\n",
              "          const dataTable =\n",
              "            await google.colab.kernel.invokeFunction('convertToInteractive',\n",
              "                                                     [key], {});\n",
              "          if (!dataTable) return;\n",
              "\n",
              "          const docLinkHtml = 'Like what you see? Visit the ' +\n",
              "            '<a target=\"_blank\" href=https://colab.research.google.com/notebooks/data_table.ipynb>data table notebook</a>'\n",
              "            + ' to learn more about interactive tables.';\n",
              "          element.innerHTML = '';\n",
              "          dataTable['output_type'] = 'display_data';\n",
              "          await google.colab.output.renderOutput(dataTable, element);\n",
              "          const docLink = document.createElement('div');\n",
              "          docLink.innerHTML = docLinkHtml;\n",
              "          element.appendChild(docLink);\n",
              "        }\n",
              "      </script>\n",
              "    </div>\n",
              "  </div>\n",
              "  "
            ]
          },
          "metadata": {},
          "execution_count": 11
        }
      ]
    },
    {
      "cell_type": "code",
      "source": [
        "pd.crosstab(df.job,df.deposit).plot(kind='bar')"
      ],
      "metadata": {
        "colab": {
          "base_uri": "https://localhost:8080/",
          "height": 357
        },
        "id": "zE2zl0gANC2J",
        "outputId": "c01808e4-e234-4ff7-b4fc-d270f059a9c6"
      },
      "execution_count": null,
      "outputs": [
        {
          "output_type": "execute_result",
          "data": {
            "text/plain": [
              "<matplotlib.axes._subplots.AxesSubplot at 0x7f868a241970>"
            ]
          },
          "metadata": {},
          "execution_count": 13
        },
        {
          "output_type": "display_data",
          "data": {
            "text/plain": [
              "<Figure size 432x288 with 1 Axes>"
            ],
            "image/png": "[encoded data removed]"
          },
          "metadata": {
            "needs_background": "light"
          }
        }
      ]
    },
    {
      "cell_type": "code",
      "source": [
        "pd.crosstab(df.education,df.deposit).plot(kind='bar')"
      ],
      "metadata": {
        "colab": {
          "base_uri": "https://localhost:8080/",
          "height": 338
        },
        "id": "fSGQB0yhNL6I",
        "outputId": "c18b8878-5d9a-42db-ff3a-3db281c4141d"
      },
      "execution_count": null,
      "outputs": [
        {
          "output_type": "execute_result",
          "data": {
            "text/plain": [
              "<matplotlib.axes._subplots.AxesSubplot at 0x7f86898e5340>"
            ]
          },
          "metadata": {},
          "execution_count": 19
        },
        {
          "output_type": "display_data",
          "data": {
            "text/plain": [
              "<Figure size 432x288 with 1 Axes>"
            ],
            "image/png": "[encoded data removed]"
          },
          "metadata": {
            "needs_background": "light"
          }
        }
      ]
    },
    {
      "cell_type": "code",
      "source": [
        "pd.crosstab(df.contact,df.deposit).plot(kind='bar')"
      ],
      "metadata": {
        "colab": {
          "base_uri": "https://localhost:8080/",
          "height": 336
        },
        "id": "ze6JKCgsNahe",
        "outputId": "a5b9690f-8886-4756-f1e7-32631099a957"
      },
      "execution_count": null,
      "outputs": [
        {
          "output_type": "execute_result",
          "data": {
            "text/plain": [
              "<matplotlib.axes._subplots.AxesSubplot at 0x7f86897b72b0>"
            ]
          },
          "metadata": {},
          "execution_count": 20
        },
        {
          "output_type": "display_data",
          "data": {
            "text/plain": [
              "<Figure size 432x288 with 1 Axes>"
            ],
            "image/png": "[encoded data removed]"
          },
          "metadata": {
            "needs_background": "light"
          }
        }
      ]
    },
    {
      "cell_type": "code",
      "source": [
        "pd.crosstab(df.marital,df.deposit).plot(kind='bar')"
      ],
      "metadata": {
        "colab": {
          "base_uri": "https://localhost:8080/",
          "height": 329
        },
        "id": "VbkIeC_6Nd7u",
        "outputId": "2baacfe1-d98f-440c-8237-e94d18e76207"
      },
      "execution_count": null,
      "outputs": [
        {
          "output_type": "execute_result",
          "data": {
            "text/plain": [
              "<matplotlib.axes._subplots.AxesSubplot at 0x7f86897ad310>"
            ]
          },
          "metadata": {},
          "execution_count": 21
        },
        {
          "output_type": "display_data",
          "data": {
            "text/plain": [
              "<Figure size 432x288 with 1 Axes>"
            ],
            "image/png": "[encoded data removed]"
          },
          "metadata": {
            "needs_background": "light"
          }
        }
      ]
    },
    {
      "cell_type": "code",
      "source": [
        "corr = df.corr()\n",
        "corr.style.background_gradient(cmap='coolwarm')"
      ],
      "metadata": {
        "colab": {
          "base_uri": "https://localhost:8080/",
          "height": 363
        },
        "id": "7fjGlWxe8ISo",
        "outputId": "92f1097d-3df4-4234-e86f-e25b4e3f77eb"
      },
      "execution_count": null,
      "outputs": [
        {
          "output_type": "execute_result",
          "data": {
            "text/plain": [
              "<pandas.io.formats.style.Styler at 0x7f86bc2c4dc0>"
            ],
            "text/html": [
              "<style type=\"text/css\">\n",
              "#T_0aebb_row0_col0, #T_0aebb_row1_col1, #T_0aebb_row2_col2, #T_0aebb_row3_col3, #T_0aebb_row4_col4, #T_0aebb_row5_col5, #T_0aebb_row6_col6, #T_0aebb_row7_col7, #T_0aebb_row8_col8, #T_0aebb_row9_col9 {\n",
              "  background-color: #b40426;\n",
              "  color: #f1f1f1;\n",
              "}\n",
              "#T_0aebb_row0_col1 {\n",
              "  background-color: #485fd1;\n",
              "  color: #f1f1f1;\n",
              "}\n",
              "#T_0aebb_row0_col2 {\n",
              "  background-color: #7597f6;\n",
              "  color: #f1f1f1;\n",
              "}\n",
              "#T_0aebb_row0_col3, #T_0aebb_row2_col1, #T_0aebb_row2_col4, #T_0aebb_row3_col0, #T_0aebb_row4_col2, #T_0aebb_row5_col9, #T_0aebb_row7_col6, #T_0aebb_row7_col8, #T_0aebb_row8_col5, #T_0aebb_row8_col7 {\n",
              "  background-color: #3b4cc0;\n",
              "  color: #f1f1f1;\n",
              "}\n",
              "#T_0aebb_row0_col4, #T_0aebb_row6_col1, #T_0aebb_row8_col4, #T_0aebb_row9_col7 {\n",
              "  background-color: #4961d2;\n",
              "  color: #f1f1f1;\n",
              "}\n",
              "#T_0aebb_row0_col5, #T_0aebb_row3_col6, #T_0aebb_row5_col1 {\n",
              "  background-color: #506bda;\n",
              "  color: #f1f1f1;\n",
              "}\n",
              "#T_0aebb_row0_col6 {\n",
              "  background-color: #465ecf;\n",
              "  color: #f1f1f1;\n",
              "}\n",
              "#T_0aebb_row0_col7, #T_0aebb_row1_col5, #T_0aebb_row4_col5, #T_0aebb_row5_col2, #T_0aebb_row7_col1 {\n",
              "  background-color: #5572df;\n",
              "  color: #f1f1f1;\n",
              "}\n",
              "#T_0aebb_row0_col8, #T_0aebb_row5_col4, #T_0aebb_row8_col2 {\n",
              "  background-color: #5875e1;\n",
              "  color: #f1f1f1;\n",
              "}\n",
              "#T_0aebb_row0_col9, #T_0aebb_row6_col4 {\n",
              "  background-color: #516ddb;\n",
              "  color: #f1f1f1;\n",
              "}\n",
              "#T_0aebb_row1_col0 {\n",
              "  background-color: #6485ec;\n",
              "  color: #f1f1f1;\n",
              "}\n",
              "#T_0aebb_row1_col2, #T_0aebb_row1_col9, #T_0aebb_row5_col6, #T_0aebb_row5_col8, #T_0aebb_row8_col1 {\n",
              "  background-color: #4055c8;\n",
              "  color: #f1f1f1;\n",
              "}\n",
              "#T_0aebb_row1_col3 {\n",
              "  background-color: #6b8df0;\n",
              "  color: #f1f1f1;\n",
              "}\n",
              "#T_0aebb_row1_col4, #T_0aebb_row3_col4, #T_0aebb_row3_col8, #T_0aebb_row7_col3 {\n",
              "  background-color: #6a8bef;\n",
              "  color: #f1f1f1;\n",
              "}\n",
              "#T_0aebb_row1_col6, #T_0aebb_row6_col9 {\n",
              "  background-color: #4358cb;\n",
              "  color: #f1f1f1;\n",
              "}\n",
              "#T_0aebb_row1_col7, #T_0aebb_row4_col7 {\n",
              "  background-color: #6180e9;\n",
              "  color: #f1f1f1;\n",
              "}\n",
              "#T_0aebb_row1_col8, #T_0aebb_row2_col6 {\n",
              "  background-color: #4c66d6;\n",
              "  color: #f1f1f1;\n",
              "}\n",
              "#T_0aebb_row2_col0 {\n",
              "  background-color: #89acfd;\n",
              "  color: #000000;\n",
              "}\n",
              "#T_0aebb_row2_col3, #T_0aebb_row2_col5, #T_0aebb_row2_col7 {\n",
              "  background-color: #536edd;\n",
              "  color: #f1f1f1;\n",
              "}\n",
              "#T_0aebb_row2_col8, #T_0aebb_row9_col2 {\n",
              "  background-color: #5b7ae5;\n",
              "  color: #f1f1f1;\n",
              "}\n",
              "#T_0aebb_row2_col9 {\n",
              "  background-color: #5470de;\n",
              "  color: #f1f1f1;\n",
              "}\n",
              "#T_0aebb_row3_col1, #T_0aebb_row6_col8 {\n",
              "  background-color: #4f69d9;\n",
              "  color: #f1f1f1;\n",
              "}\n",
              "#T_0aebb_row3_col2 {\n",
              "  background-color: #3c4ec2;\n",
              "  color: #f1f1f1;\n",
              "}\n",
              "#T_0aebb_row3_col5, #T_0aebb_row3_col9, #T_0aebb_row6_col7, #T_0aebb_row9_col4 {\n",
              "  background-color: #4b64d5;\n",
              "  color: #f1f1f1;\n",
              "}\n",
              "#T_0aebb_row3_col7, #T_0aebb_row6_col2 {\n",
              "  background-color: #5977e3;\n",
              "  color: #f1f1f1;\n",
              "}\n",
              "#T_0aebb_row4_col0 {\n",
              "  background-color: #5f7fe8;\n",
              "  color: #f1f1f1;\n",
              "}\n",
              "#T_0aebb_row4_col1, #T_0aebb_row5_col3 {\n",
              "  background-color: #6384eb;\n",
              "  color: #f1f1f1;\n",
              "}\n",
              "#T_0aebb_row4_col3 {\n",
              "  background-color: #7ea1fa;\n",
              "  color: #f1f1f1;\n",
              "}\n",
              "#T_0aebb_row4_col6 {\n",
              "  background-color: #455cce;\n",
              "  color: #f1f1f1;\n",
              "}\n",
              "#T_0aebb_row4_col8, #T_0aebb_row7_col2 {\n",
              "  background-color: #4e68d8;\n",
              "  color: #f1f1f1;\n",
              "}\n",
              "#T_0aebb_row4_col9 {\n",
              "  background-color: #445acc;\n",
              "  color: #f1f1f1;\n",
              "}\n",
              "#T_0aebb_row5_col0, #T_0aebb_row6_col0, #T_0aebb_row9_col3 {\n",
              "  background-color: #6788ee;\n",
              "  color: #f1f1f1;\n",
              "}\n",
              "#T_0aebb_row5_col7 {\n",
              "  background-color: #81a4fb;\n",
              "  color: #f1f1f1;\n",
              "}\n",
              "#T_0aebb_row6_col3 {\n",
              "  background-color: #7295f4;\n",
              "  color: #f1f1f1;\n",
              "}\n",
              "#T_0aebb_row6_col5 {\n",
              "  background-color: #4a63d3;\n",
              "  color: #f1f1f1;\n",
              "}\n",
              "#T_0aebb_row7_col0 {\n",
              "  background-color: #6687ed;\n",
              "  color: #f1f1f1;\n",
              "}\n",
              "#T_0aebb_row7_col4 {\n",
              "  background-color: #5d7ce6;\n",
              "  color: #f1f1f1;\n",
              "}\n",
              "#T_0aebb_row7_col5 {\n",
              "  background-color: #7a9df8;\n",
              "  color: #f1f1f1;\n",
              "}\n",
              "#T_0aebb_row7_col9 {\n",
              "  background-color: #3d50c3;\n",
              "  color: #f1f1f1;\n",
              "}\n",
              "#T_0aebb_row8_col0 {\n",
              "  background-color: #688aef;\n",
              "  color: #f1f1f1;\n",
              "}\n",
              "#T_0aebb_row8_col3 {\n",
              "  background-color: #7b9ff9;\n",
              "  color: #f1f1f1;\n",
              "}\n",
              "#T_0aebb_row8_col6, #T_0aebb_row9_col6 {\n",
              "  background-color: #3e51c5;\n",
              "  color: #f1f1f1;\n",
              "}\n",
              "#T_0aebb_row8_col9 {\n",
              "  background-color: #e5d8d1;\n",
              "  color: #000000;\n",
              "}\n",
              "#T_0aebb_row9_col0 {\n",
              "  background-color: #6e90f2;\n",
              "  color: #f1f1f1;\n",
              "}\n",
              "#T_0aebb_row9_col1 {\n",
              "  background-color: #4257c9;\n",
              "  color: #f1f1f1;\n",
              "}\n",
              "#T_0aebb_row9_col5 {\n",
              "  background-color: #3f53c6;\n",
              "  color: #f1f1f1;\n",
              "}\n",
              "#T_0aebb_row9_col8 {\n",
              "  background-color: #ead5c9;\n",
              "  color: #000000;\n",
              "}\n",
              "</style>\n",
              "<table id=\"T_0aebb_\" class=\"dataframe\">\n",
              "  <thead>\n",
              "    <tr>\n",
              "      <th class=\"blank level0\" >&nbsp;</th>\n",
              "      <th class=\"col_heading level0 col0\" >age</th>\n",
              "      <th class=\"col_heading level0 col1\" >default</th>\n",
              "      <th class=\"col_heading level0 col2\" >balance</th>\n",
              "      <th class=\"col_heading level0 col3\" >housing</th>\n",
              "      <th class=\"col_heading level0 col4\" >loan</th>\n",
              "      <th class=\"col_heading level0 col5\" >day</th>\n",
              "      <th class=\"col_heading level0 col6\" >duration</th>\n",
              "      <th class=\"col_heading level0 col7\" >campaign</th>\n",
              "      <th class=\"col_heading level0 col8\" >pdays</th>\n",
              "      <th class=\"col_heading level0 col9\" >previous</th>\n",
              "    </tr>\n",
              "  </thead>\n",
              "  <tbody>\n",
              "    <tr>\n",
              "      <th id=\"T_0aebb_level0_row0\" class=\"row_heading level0 row0\" >age</th>\n",
              "      <td id=\"T_0aebb_row0_col0\" class=\"data row0 col0\" >1.000000</td>\n",
              "      <td id=\"T_0aebb_row0_col1\" class=\"data row0 col1\" >-0.011425</td>\n",
              "      <td id=\"T_0aebb_row0_col2\" class=\"data row0 col2\" >0.112300</td>\n",
              "      <td id=\"T_0aebb_row0_col3\" class=\"data row0 col3\" >-0.168700</td>\n",
              "      <td id=\"T_0aebb_row0_col4\" class=\"data row0 col4\" >-0.031418</td>\n",
              "      <td id=\"T_0aebb_row0_col5\" class=\"data row0 col5\" >-0.000762</td>\n",
              "      <td id=\"T_0aebb_row0_col6\" class=\"data row0 col6\" >0.000189</td>\n",
              "      <td id=\"T_0aebb_row0_col7\" class=\"data row0 col7\" >-0.005278</td>\n",
              "      <td id=\"T_0aebb_row0_col8\" class=\"data row0 col8\" >0.002774</td>\n",
              "      <td id=\"T_0aebb_row0_col9\" class=\"data row0 col9\" >0.020169</td>\n",
              "    </tr>\n",
              "    <tr>\n",
              "      <th id=\"T_0aebb_level0_row1\" class=\"row_heading level0 row1\" >default</th>\n",
              "      <td id=\"T_0aebb_row1_col0\" class=\"data row1 col0\" >-0.011425</td>\n",
              "      <td id=\"T_0aebb_row1_col1\" class=\"data row1 col1\" >1.000000</td>\n",
              "      <td id=\"T_0aebb_row1_col2\" class=\"data row1 col2\" >-0.060954</td>\n",
              "      <td id=\"T_0aebb_row1_col3\" class=\"data row1 col3\" >0.011076</td>\n",
              "      <td id=\"T_0aebb_row1_col4\" class=\"data row1 col4\" >0.076434</td>\n",
              "      <td id=\"T_0aebb_row1_col5\" class=\"data row1 col5\" >0.017342</td>\n",
              "      <td id=\"T_0aebb_row1_col6\" class=\"data row1 col6\" >-0.009760</td>\n",
              "      <td id=\"T_0aebb_row1_col7\" class=\"data row1 col7\" >0.030975</td>\n",
              "      <td id=\"T_0aebb_row1_col8\" class=\"data row1 col8\" >-0.036282</td>\n",
              "      <td id=\"T_0aebb_row1_col9\" class=\"data row1 col9\" >-0.035273</td>\n",
              "    </tr>\n",
              "    <tr>\n",
              "      <th id=\"T_0aebb_level0_row2\" class=\"row_heading level0 row2\" >balance</th>\n",
              "      <td id=\"T_0aebb_row2_col0\" class=\"data row2 col0\" >0.112300</td>\n",
              "      <td id=\"T_0aebb_row2_col1\" class=\"data row2 col1\" >-0.060954</td>\n",
              "      <td id=\"T_0aebb_row2_col2\" class=\"data row2 col2\" >1.000000</td>\n",
              "      <td id=\"T_0aebb_row2_col3\" class=\"data row2 col3\" >-0.077092</td>\n",
              "      <td id=\"T_0aebb_row2_col4\" class=\"data row2 col4\" >-0.084589</td>\n",
              "      <td id=\"T_0aebb_row2_col5\" class=\"data row2 col5\" >0.010467</td>\n",
              "      <td id=\"T_0aebb_row2_col6\" class=\"data row2 col6\" >0.022436</td>\n",
              "      <td id=\"T_0aebb_row2_col7\" class=\"data row2 col7\" >-0.013894</td>\n",
              "      <td id=\"T_0aebb_row2_col8\" class=\"data row2 col8\" >0.017411</td>\n",
              "      <td id=\"T_0aebb_row2_col9\" class=\"data row2 col9\" >0.030805</td>\n",
              "    </tr>\n",
              "    <tr>\n",
              "      <th id=\"T_0aebb_level0_row3\" class=\"row_heading level0 row3\" >housing</th>\n",
              "      <td id=\"T_0aebb_row3_col0\" class=\"data row3 col0\" >-0.168700</td>\n",
              "      <td id=\"T_0aebb_row3_col1\" class=\"data row3 col1\" >0.011076</td>\n",
              "      <td id=\"T_0aebb_row3_col2\" class=\"data row3 col2\" >-0.077092</td>\n",
              "      <td id=\"T_0aebb_row3_col3\" class=\"data row3 col3\" >1.000000</td>\n",
              "      <td id=\"T_0aebb_row3_col4\" class=\"data row3 col4\" >0.076761</td>\n",
              "      <td id=\"T_0aebb_row3_col5\" class=\"data row3 col5\" >-0.014770</td>\n",
              "      <td id=\"T_0aebb_row3_col6\" class=\"data row3 col6\" >0.035051</td>\n",
              "      <td id=\"T_0aebb_row3_col7\" class=\"data row3 col7\" >0.006660</td>\n",
              "      <td id=\"T_0aebb_row3_col8\" class=\"data row3 col8\" >0.064497</td>\n",
              "      <td id=\"T_0aebb_row3_col9\" class=\"data row3 col9\" >-0.000840</td>\n",
              "    </tr>\n",
              "    <tr>\n",
              "      <th id=\"T_0aebb_level0_row4\" class=\"row_heading level0 row4\" >loan</th>\n",
              "      <td id=\"T_0aebb_row4_col0\" class=\"data row4 col0\" >-0.031418</td>\n",
              "      <td id=\"T_0aebb_row4_col1\" class=\"data row4 col1\" >0.076434</td>\n",
              "      <td id=\"T_0aebb_row4_col2\" class=\"data row4 col2\" >-0.084589</td>\n",
              "      <td id=\"T_0aebb_row4_col3\" class=\"data row4 col3\" >0.076761</td>\n",
              "      <td id=\"T_0aebb_row4_col4\" class=\"data row4 col4\" >1.000000</td>\n",
              "      <td id=\"T_0aebb_row4_col5\" class=\"data row4 col5\" >0.017269</td>\n",
              "      <td id=\"T_0aebb_row4_col6\" class=\"data row4 col6\" >-0.001914</td>\n",
              "      <td id=\"T_0aebb_row4_col7\" class=\"data row4 col7\" >0.034722</td>\n",
              "      <td id=\"T_0aebb_row4_col8\" class=\"data row4 col8\" >-0.030416</td>\n",
              "      <td id=\"T_0aebb_row4_col9\" class=\"data row4 col9\" >-0.022668</td>\n",
              "    </tr>\n",
              "    <tr>\n",
              "      <th id=\"T_0aebb_level0_row5\" class=\"row_heading level0 row5\" >day</th>\n",
              "      <td id=\"T_0aebb_row5_col0\" class=\"data row5 col0\" >-0.000762</td>\n",
              "      <td id=\"T_0aebb_row5_col1\" class=\"data row5 col1\" >0.017342</td>\n",
              "      <td id=\"T_0aebb_row5_col2\" class=\"data row5 col2\" >0.010467</td>\n",
              "      <td id=\"T_0aebb_row5_col3\" class=\"data row5 col3\" >-0.014770</td>\n",
              "      <td id=\"T_0aebb_row5_col4\" class=\"data row5 col4\" >0.017269</td>\n",
              "      <td id=\"T_0aebb_row5_col5\" class=\"data row5 col5\" >1.000000</td>\n",
              "      <td id=\"T_0aebb_row5_col6\" class=\"data row5 col6\" >-0.018511</td>\n",
              "      <td id=\"T_0aebb_row5_col7\" class=\"data row5 col7\" >0.137007</td>\n",
              "      <td id=\"T_0aebb_row5_col8\" class=\"data row5 col8\" >-0.077232</td>\n",
              "      <td id=\"T_0aebb_row5_col9\" class=\"data row5 col9\" >-0.058981</td>\n",
              "    </tr>\n",
              "    <tr>\n",
              "      <th id=\"T_0aebb_level0_row6\" class=\"row_heading level0 row6\" >duration</th>\n",
              "      <td id=\"T_0aebb_row6_col0\" class=\"data row6 col0\" >0.000189</td>\n",
              "      <td id=\"T_0aebb_row6_col1\" class=\"data row6 col1\" >-0.009760</td>\n",
              "      <td id=\"T_0aebb_row6_col2\" class=\"data row6 col2\" >0.022436</td>\n",
              "      <td id=\"T_0aebb_row6_col3\" class=\"data row6 col3\" >0.035051</td>\n",
              "      <td id=\"T_0aebb_row6_col4\" class=\"data row6 col4\" >-0.001914</td>\n",
              "      <td id=\"T_0aebb_row6_col5\" class=\"data row6 col5\" >-0.018511</td>\n",
              "      <td id=\"T_0aebb_row6_col6\" class=\"data row6 col6\" >1.000000</td>\n",
              "      <td id=\"T_0aebb_row6_col7\" class=\"data row6 col7\" >-0.041557</td>\n",
              "      <td id=\"T_0aebb_row6_col8\" class=\"data row6 col8\" >-0.027392</td>\n",
              "      <td id=\"T_0aebb_row6_col9\" class=\"data row6 col9\" >-0.026716</td>\n",
              "    </tr>\n",
              "    <tr>\n",
              "      <th id=\"T_0aebb_level0_row7\" class=\"row_heading level0 row7\" >campaign</th>\n",
              "      <td id=\"T_0aebb_row7_col0\" class=\"data row7 col0\" >-0.005278</td>\n",
              "      <td id=\"T_0aebb_row7_col1\" class=\"data row7 col1\" >0.030975</td>\n",
              "      <td id=\"T_0aebb_row7_col2\" class=\"data row7 col2\" >-0.013894</td>\n",
              "      <td id=\"T_0aebb_row7_col3\" class=\"data row7 col3\" >0.006660</td>\n",
              "      <td id=\"T_0aebb_row7_col4\" class=\"data row7 col4\" >0.034722</td>\n",
              "      <td id=\"T_0aebb_row7_col5\" class=\"data row7 col5\" >0.137007</td>\n",
              "      <td id=\"T_0aebb_row7_col6\" class=\"data row7 col6\" >-0.041557</td>\n",
              "      <td id=\"T_0aebb_row7_col7\" class=\"data row7 col7\" >1.000000</td>\n",
              "      <td id=\"T_0aebb_row7_col8\" class=\"data row7 col8\" >-0.102726</td>\n",
              "      <td id=\"T_0aebb_row7_col9\" class=\"data row7 col9\" >-0.049699</td>\n",
              "    </tr>\n",
              "    <tr>\n",
              "      <th id=\"T_0aebb_level0_row8\" class=\"row_heading level0 row8\" >pdays</th>\n",
              "      <td id=\"T_0aebb_row8_col0\" class=\"data row8 col0\" >0.002774</td>\n",
              "      <td id=\"T_0aebb_row8_col1\" class=\"data row8 col1\" >-0.036282</td>\n",
              "      <td id=\"T_0aebb_row8_col2\" class=\"data row8 col2\" >0.017411</td>\n",
              "      <td id=\"T_0aebb_row8_col3\" class=\"data row8 col3\" >0.064497</td>\n",
              "      <td id=\"T_0aebb_row8_col4\" class=\"data row8 col4\" >-0.030416</td>\n",
              "      <td id=\"T_0aebb_row8_col5\" class=\"data row8 col5\" >-0.077232</td>\n",
              "      <td id=\"T_0aebb_row8_col6\" class=\"data row8 col6\" >-0.027392</td>\n",
              "      <td id=\"T_0aebb_row8_col7\" class=\"data row8 col7\" >-0.102726</td>\n",
              "      <td id=\"T_0aebb_row8_col8\" class=\"data row8 col8\" >1.000000</td>\n",
              "      <td id=\"T_0aebb_row8_col9\" class=\"data row8 col9\" >0.507272</td>\n",
              "    </tr>\n",
              "    <tr>\n",
              "      <th id=\"T_0aebb_level0_row9\" class=\"row_heading level0 row9\" >previous</th>\n",
              "      <td id=\"T_0aebb_row9_col0\" class=\"data row9 col0\" >0.020169</td>\n",
              "      <td id=\"T_0aebb_row9_col1\" class=\"data row9 col1\" >-0.035273</td>\n",
              "      <td id=\"T_0aebb_row9_col2\" class=\"data row9 col2\" >0.030805</td>\n",
              "      <td id=\"T_0aebb_row9_col3\" class=\"data row9 col3\" >-0.000840</td>\n",
              "      <td id=\"T_0aebb_row9_col4\" class=\"data row9 col4\" >-0.022668</td>\n",
              "      <td id=\"T_0aebb_row9_col5\" class=\"data row9 col5\" >-0.058981</td>\n",
              "      <td id=\"T_0aebb_row9_col6\" class=\"data row9 col6\" >-0.026716</td>\n",
              "      <td id=\"T_0aebb_row9_col7\" class=\"data row9 col7\" >-0.049699</td>\n",
              "      <td id=\"T_0aebb_row9_col8\" class=\"data row9 col8\" >0.507272</td>\n",
              "      <td id=\"T_0aebb_row9_col9\" class=\"data row9 col9\" >1.000000</td>\n",
              "    </tr>\n",
              "  </tbody>\n",
              "</table>\n"
            ]
          },
          "metadata": {},
          "execution_count": 12
        }
      ]
    },
    {
      "cell_type": "markdown",
      "source": [
        "## Построение модели"
      ],
      "metadata": {
        "id": "G-1wo6DyVsyc"
      }
    },
    {
      "cell_type": "code",
      "source": [
        "from sklearn.linear_model import LogisticRegression\n",
        "from sklearn.model_selection import train_test_split\n",
        "from sklearn.preprocessing import StandardScaler\n",
        "\n",
        "X = df.drop(['deposit','job','marital','contact','poutcome','education','month'], axis =1)\n",
        "Y = df.deposit\n",
        "\n",
        "Xtrain,Xtest,Ytrain,Ytest = train_test_split(X,Y,test_size=0.25, random_state=42)\n",
        "\n",
        "ss= StandardScaler()\n",
        "ss.fit(Xtrain)\n",
        "\n",
        "model = LogisticRegression()\n",
        "model.fit(Xtrain,Ytrain)"
      ],
      "metadata": {
        "colab": {
          "base_uri": "https://localhost:8080/"
        },
        "id": "3Vi9u1cPMLAe",
        "outputId": "8397076e-4084-4994-e85e-7da1ff9ae37e"
      },
      "execution_count": null,
      "outputs": [
        {
          "output_type": "execute_result",
          "data": {
            "text/plain": [
              "LogisticRegression()"
            ]
          },
          "metadata": {},
          "execution_count": 37
        }
      ]
    },
    {
      "cell_type": "code",
      "source": [
        "from sklearn.metrics import accuracy_score,confusion_matrix,recall_score,precision_score\n",
        "prediction = model.predict(Xtest)\n",
        "accuracy_score(Ytest,prediction)"
      ],
      "metadata": {
        "colab": {
          "base_uri": "https://localhost:8080/"
        },
        "id": "97ky7KJ4YlqN",
        "outputId": "b5a26039-a982-4d8d-8506-7457890796e9"
      },
      "execution_count": null,
      "outputs": [
        {
          "output_type": "execute_result",
          "data": {
            "text/plain": [
              "0.7556431386599785"
            ]
          },
          "metadata": {},
          "execution_count": 65
        }
      ]
    },
    {
      "cell_type": "code",
      "source": [
        "confusion_matrix(Ytest,prediction)"
      ],
      "metadata": {
        "colab": {
          "base_uri": "https://localhost:8080/"
        },
        "id": "7SjkvXh7ZAyd",
        "outputId": "3cec3c16-449e-41da-ca1f-25da0f402c3d"
      },
      "execution_count": null,
      "outputs": [
        {
          "output_type": "execute_result",
          "data": {
            "text/plain": [
              "array([[1152,  298],\n",
              "       [ 384,  957]])"
            ]
          },
          "metadata": {},
          "execution_count": 66
        }
      ]
    },
    {
      "cell_type": "code",
      "source": [
        "recall_score(Ytest,prediction, pos_label='no')"
      ],
      "metadata": {
        "colab": {
          "base_uri": "https://localhost:8080/"
        },
        "id": "EwLZUfh0Ze9m",
        "outputId": "67742be5-0a92-4e19-e702-0b68262f541e"
      },
      "execution_count": null,
      "outputs": [
        {
          "output_type": "execute_result",
          "data": {
            "text/plain": [
              "0.7944827586206896"
            ]
          },
          "metadata": {},
          "execution_count": 75
        }
      ]
    },
    {
      "cell_type": "code",
      "source": [
        "precision_score(Ytest,prediction, pos_label='no')"
      ],
      "metadata": {
        "colab": {
          "base_uri": "https://localhost:8080/"
        },
        "id": "z6i9ZvU3ZmHt",
        "outputId": "f6c5f2c5-cc25-45ce-85a3-9a99e874df0c"
      },
      "execution_count": null,
      "outputs": [
        {
          "output_type": "execute_result",
          "data": {
            "text/plain": [
              "0.75"
            ]
          },
          "metadata": {},
          "execution_count": 78
        }
      ]
    }
  ]
}